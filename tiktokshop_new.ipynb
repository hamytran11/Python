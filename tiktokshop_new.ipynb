{
 "cells": [
  {
   "cell_type": "code",
   "execution_count": 2,
   "metadata": {},
   "outputs": [
    {
     "name": "stdout",
     "output_type": "stream",
     "text": [
      "ttspartner@onpoint.vn\n",
      "h@NZ4x(VXWi$JNZd@\n"
     ]
    }
   ],
   "source": [
    "import time\n",
    "from selenium import webdriver\n",
    "from selenium.webdriver.common.keys import Keys\n",
    "from selenium.webdriver.common.by import By\n",
    "from selenium.webdriver.support.ui import WebDriverWait\n",
    "from selenium.webdriver.support import expected_conditions as EC\n",
    "from user import username_tiktok, password_tiktok\n",
    "import numpy as np"
   ]
  },
  {
   "cell_type": "code",
   "execution_count": 3,
   "metadata": {},
   "outputs": [],
   "source": [
    "chrome_options = webdriver.ChromeOptions()\n",
    "chrome_options.add_experimental_option(\"useAutomationExtension\", False)\n",
    "chrome_options.add_experimental_option(\"excludeSwitches\", [\"enable-automation\"])\n",
    "\n",
    "# Disable password manager feature\n",
    "prefs = {\"credentials_enable_service\": False, \"profile.password_manager_enabled\": False}\n",
    "chrome_options.add_experimental_option(\"prefs\", prefs)\n",
    "\n",
    "# Start a new Chrome session\n",
    "browser = webdriver.Chrome(options=chrome_options)\n",
    "browser.maximize_window()\n",
    "\n",
    "# Navigate to the login page\n",
    "browser.get(\"https://partner.tiktokshop.com/account/login\")"
   ]
  },
  {
   "cell_type": "code",
   "execution_count": 4,
   "metadata": {},
   "outputs": [],
   "source": [
    "email_field = WebDriverWait(browser, 10).until(EC.presence_of_element_located((By.XPATH, '//*[@id=\"email\"]/div/div/span/span/input')))\n",
    "email_field.send_keys(username_tiktok)\n",
    "\n",
    "# Wait for password field to be present\n",
    "password_field = WebDriverWait(browser, 10).until(EC.presence_of_element_located((By.XPATH, '//*[@id=\"password_input\"]')))\n",
    "password_field.send_keys(password_tiktok)\n",
    "\n",
    "# Submit the login form\n",
    "password_field.send_keys(Keys.RETURN)"
   ]
  },
  {
   "cell_type": "code",
   "execution_count": 5,
   "metadata": {},
   "outputs": [],
   "source": [
    "browser.get(\"https://partner.tiktokshop.com/compass/shop-analysis\")"
   ]
  },
  {
   "cell_type": "code",
   "execution_count": 7,
   "metadata": {},
   "outputs": [
    {
     "ename": "NoSuchWindowException",
     "evalue": "Message: no such window: target window already closed\nfrom unknown error: web view not found\n  (Session info: chrome=124.0.6367.119)\nStacktrace:\n\tGetHandleVerifier [0x00007FF65E931572+60802]\n\t(No symbol) [0x00007FF65E8AAC72]\n\t(No symbol) [0x00007FF65E767CE4]\n\t(No symbol) [0x00007FF65E73DFDF]\n\t(No symbol) [0x00007FF65E7E1E57]\n\t(No symbol) [0x00007FF65E7F98D1]\n\t(No symbol) [0x00007FF65E7DA923]\n\t(No symbol) [0x00007FF65E7A8FEC]\n\t(No symbol) [0x00007FF65E7A9C21]\n\tGetHandleVerifier [0x00007FF65EC3420D+3217949]\n\tGetHandleVerifier [0x00007FF65EC761A7+3488183]\n\tGetHandleVerifier [0x00007FF65EC6F12F+3459391]\n\tGetHandleVerifier [0x00007FF65E9EB936+823622]\n\t(No symbol) [0x00007FF65E8B600F]\n\t(No symbol) [0x00007FF65E8B0F34]\n\t(No symbol) [0x00007FF65E8B10C2]\n\t(No symbol) [0x00007FF65E8A1914]\n\tBaseThreadInitThunk [0x00007FF89196257D+29]\n\tRtlUserThreadStart [0x00007FF893B4AA48+40]\n",
     "output_type": "error",
     "traceback": [
      "\u001b[1;31m---------------------------------------------------------------------------\u001b[0m",
      "\u001b[1;31mNoSuchWindowException\u001b[0m                     Traceback (most recent call last)",
      "Cell \u001b[1;32mIn[7], line 1\u001b[0m\n\u001b[1;32m----> 1\u001b[0m load_button \u001b[38;5;241m=\u001b[39m browser\u001b[38;5;241m.\u001b[39mfind_element(by\u001b[38;5;241m=\u001b[39m By\u001b[38;5;241m.\u001b[39mXPATH, value\u001b[38;5;241m=\u001b[39m\u001b[38;5;124m'\u001b[39m\u001b[38;5;124m//button[@class = \u001b[39m\u001b[38;5;124m\"\u001b[39m\u001b[38;5;124marco-btn arco-btn-secondary arco-btn-size-large arco-btn-shape-square\u001b[39m\u001b[38;5;124m\"\u001b[39m\u001b[38;5;124m]\u001b[39m\u001b[38;5;124m'\u001b[39m)\n\u001b[0;32m      2\u001b[0m load_button\u001b[38;5;241m.\u001b[39mclick()\n",
      "File \u001b[1;32mc:\\Users\\ADMIN\\anaconda3\\Lib\\site-packages\\selenium\\webdriver\\remote\\webdriver.py:741\u001b[0m, in \u001b[0;36mWebDriver.find_element\u001b[1;34m(self, by, value)\u001b[0m\n\u001b[0;32m    738\u001b[0m     by \u001b[38;5;241m=\u001b[39m By\u001b[38;5;241m.\u001b[39mCSS_SELECTOR\n\u001b[0;32m    739\u001b[0m     value \u001b[38;5;241m=\u001b[39m \u001b[38;5;124mf\u001b[39m\u001b[38;5;124m'\u001b[39m\u001b[38;5;124m[name=\u001b[39m\u001b[38;5;124m\"\u001b[39m\u001b[38;5;132;01m{\u001b[39;00mvalue\u001b[38;5;132;01m}\u001b[39;00m\u001b[38;5;124m\"\u001b[39m\u001b[38;5;124m]\u001b[39m\u001b[38;5;124m'\u001b[39m\n\u001b[1;32m--> 741\u001b[0m \u001b[38;5;28;01mreturn\u001b[39;00m \u001b[38;5;28mself\u001b[39m\u001b[38;5;241m.\u001b[39mexecute(Command\u001b[38;5;241m.\u001b[39mFIND_ELEMENT, {\u001b[38;5;124m\"\u001b[39m\u001b[38;5;124musing\u001b[39m\u001b[38;5;124m\"\u001b[39m: by, \u001b[38;5;124m\"\u001b[39m\u001b[38;5;124mvalue\u001b[39m\u001b[38;5;124m\"\u001b[39m: value})[\u001b[38;5;124m\"\u001b[39m\u001b[38;5;124mvalue\u001b[39m\u001b[38;5;124m\"\u001b[39m]\n",
      "File \u001b[1;32mc:\\Users\\ADMIN\\anaconda3\\Lib\\site-packages\\selenium\\webdriver\\remote\\webdriver.py:347\u001b[0m, in \u001b[0;36mWebDriver.execute\u001b[1;34m(self, driver_command, params)\u001b[0m\n\u001b[0;32m    345\u001b[0m response \u001b[38;5;241m=\u001b[39m \u001b[38;5;28mself\u001b[39m\u001b[38;5;241m.\u001b[39mcommand_executor\u001b[38;5;241m.\u001b[39mexecute(driver_command, params)\n\u001b[0;32m    346\u001b[0m \u001b[38;5;28;01mif\u001b[39;00m response:\n\u001b[1;32m--> 347\u001b[0m     \u001b[38;5;28mself\u001b[39m\u001b[38;5;241m.\u001b[39merror_handler\u001b[38;5;241m.\u001b[39mcheck_response(response)\n\u001b[0;32m    348\u001b[0m     response[\u001b[38;5;124m\"\u001b[39m\u001b[38;5;124mvalue\u001b[39m\u001b[38;5;124m\"\u001b[39m] \u001b[38;5;241m=\u001b[39m \u001b[38;5;28mself\u001b[39m\u001b[38;5;241m.\u001b[39m_unwrap_value(response\u001b[38;5;241m.\u001b[39mget(\u001b[38;5;124m\"\u001b[39m\u001b[38;5;124mvalue\u001b[39m\u001b[38;5;124m\"\u001b[39m, \u001b[38;5;28;01mNone\u001b[39;00m))\n\u001b[0;32m    349\u001b[0m     \u001b[38;5;28;01mreturn\u001b[39;00m response\n",
      "File \u001b[1;32mc:\\Users\\ADMIN\\anaconda3\\Lib\\site-packages\\selenium\\webdriver\\remote\\errorhandler.py:229\u001b[0m, in \u001b[0;36mErrorHandler.check_response\u001b[1;34m(self, response)\u001b[0m\n\u001b[0;32m    227\u001b[0m         alert_text \u001b[38;5;241m=\u001b[39m value[\u001b[38;5;124m\"\u001b[39m\u001b[38;5;124malert\u001b[39m\u001b[38;5;124m\"\u001b[39m]\u001b[38;5;241m.\u001b[39mget(\u001b[38;5;124m\"\u001b[39m\u001b[38;5;124mtext\u001b[39m\u001b[38;5;124m\"\u001b[39m)\n\u001b[0;32m    228\u001b[0m     \u001b[38;5;28;01mraise\u001b[39;00m exception_class(message, screen, stacktrace, alert_text)  \u001b[38;5;66;03m# type: ignore[call-arg]  # mypy is not smart enough here\u001b[39;00m\n\u001b[1;32m--> 229\u001b[0m \u001b[38;5;28;01mraise\u001b[39;00m exception_class(message, screen, stacktrace)\n",
      "\u001b[1;31mNoSuchWindowException\u001b[0m: Message: no such window: target window already closed\nfrom unknown error: web view not found\n  (Session info: chrome=124.0.6367.119)\nStacktrace:\n\tGetHandleVerifier [0x00007FF65E931572+60802]\n\t(No symbol) [0x00007FF65E8AAC72]\n\t(No symbol) [0x00007FF65E767CE4]\n\t(No symbol) [0x00007FF65E73DFDF]\n\t(No symbol) [0x00007FF65E7E1E57]\n\t(No symbol) [0x00007FF65E7F98D1]\n\t(No symbol) [0x00007FF65E7DA923]\n\t(No symbol) [0x00007FF65E7A8FEC]\n\t(No symbol) [0x00007FF65E7A9C21]\n\tGetHandleVerifier [0x00007FF65EC3420D+3217949]\n\tGetHandleVerifier [0x00007FF65EC761A7+3488183]\n\tGetHandleVerifier [0x00007FF65EC6F12F+3459391]\n\tGetHandleVerifier [0x00007FF65E9EB936+823622]\n\t(No symbol) [0x00007FF65E8B600F]\n\t(No symbol) [0x00007FF65E8B0F34]\n\t(No symbol) [0x00007FF65E8B10C2]\n\t(No symbol) [0x00007FF65E8A1914]\n\tBaseThreadInitThunk [0x00007FF89196257D+29]\n\tRtlUserThreadStart [0x00007FF893B4AA48+40]\n"
     ]
    }
   ],
   "source": [
    "load_button = browser.find_element(by= By.XPATH, value='//button[@class = \"arco-btn arco-btn-secondary arco-btn-size-large arco-btn-shape-square\"]')\n",
    "load_button.click()"
   ]
  },
  {
   "cell_type": "code",
   "execution_count": null,
   "metadata": {},
   "outputs": [],
   "source": [
    "filter_click = browser.find_element(by= By.XPATH, value = '//div[@class = \"arco-picker-suffix\"]')\n",
    "filter_click.click()"
   ]
  },
  {
   "cell_type": "code",
   "execution_count": null,
   "metadata": {},
   "outputs": [],
   "source": [
    "day_click = browser.find_elements(by = By.XPATH, value = '//div[@class = \"arco-space-item\"]')\n",
    "day_click[2].click()\n"
   ]
  },
  {
   "cell_type": "markdown",
   "metadata": {},
   "source": [
    "#### list month"
   ]
  },
  {
   "cell_type": "code",
   "execution_count": null,
   "metadata": {},
   "outputs": [
    {
     "ename": "NameError",
     "evalue": "name 'browser' is not defined",
     "output_type": "error",
     "traceback": [
      "\u001b[1;31m---------------------------------------------------------------------------\u001b[0m",
      "\u001b[1;31mNameError\u001b[0m                                 Traceback (most recent call last)",
      "Cell \u001b[1;32mIn[1], line 1\u001b[0m\n\u001b[1;32m----> 1\u001b[0m month_filter \u001b[38;5;241m=\u001b[39m browser\u001b[38;5;241m.\u001b[39mfind_elements(by \u001b[38;5;241m=\u001b[39m By\u001b[38;5;241m.\u001b[39mXPATH, value \u001b[38;5;241m=\u001b[39m \u001b[38;5;124m'\u001b[39m\u001b[38;5;124m//div[@class = \u001b[39m\u001b[38;5;124m\"\u001b[39m\u001b[38;5;124marco-picker-header-value\u001b[39m\u001b[38;5;124m\"\u001b[39m\u001b[38;5;124m]/span[@class = \u001b[39m\u001b[38;5;124m\"\u001b[39m\u001b[38;5;124marco-picker-header-label\u001b[39m\u001b[38;5;124m\"\u001b[39m\u001b[38;5;124m]\u001b[39m\u001b[38;5;124m'\u001b[39m )\n\u001b[0;32m      2\u001b[0m month \u001b[38;5;241m=\u001b[39m month_filter[\u001b[38;5;241m1\u001b[39m]\u001b[38;5;241m.\u001b[39mget_attribute(\u001b[38;5;124m'\u001b[39m\u001b[38;5;124mtextContent\u001b[39m\u001b[38;5;124m'\u001b[39m)\n\u001b[0;32m      3\u001b[0m month_filter[\u001b[38;5;241m1\u001b[39m]\u001b[38;5;241m.\u001b[39mclick()\n",
      "\u001b[1;31mNameError\u001b[0m: name 'browser' is not defined"
     ]
    }
   ],
   "source": [
    "month_filter = browser.find_elements(by = By.XPATH, value = '//div[@class = \"arco-picker-header-value\"]/span[@class = \"arco-picker-header-label\"]' )\n",
    "month = month_filter[1].get_attribute('textContent')\n",
    "month_filter[1].click()"
   ]
  },
  {
   "cell_type": "code",
   "execution_count": null,
   "metadata": {},
   "outputs": [
    {
     "name": "stdout",
     "output_type": "stream",
     "text": [
      "2024\n",
      "05\n"
     ]
    }
   ],
   "source": [
    "month_filter = browser.find_elements(by = By.XPATH, value = '//div[@class = \"arco-picker-header-value\"]/span[@class = \"arco-picker-header-label\"]' )\n",
    "for i in month_filter: \n",
    "    print(i.get_attribute('textContent'))"
   ]
  },
  {
   "cell_type": "markdown",
   "metadata": {},
   "source": [
    "### list month container"
   ]
  },
  {
   "cell_type": "code",
   "execution_count": null,
   "metadata": {},
   "outputs": [
    {
     "data": {
      "text/plain": [
       "[<selenium.webdriver.remote.webelement.WebElement (session=\"b59463b867f837d3e4a7ac4450d7329e\", element=\"f.1D7CD96253A62B07820849FEF0A66C19.d.4562648F8383D5B7CE4F19D77CF31619.e.96\")>,\n",
       " <selenium.webdriver.remote.webelement.WebElement (session=\"b59463b867f837d3e4a7ac4450d7329e\", element=\"f.1D7CD96253A62B07820849FEF0A66C19.d.4562648F8383D5B7CE4F19D77CF31619.e.97\")>,\n",
       " <selenium.webdriver.remote.webelement.WebElement (session=\"b59463b867f837d3e4a7ac4450d7329e\", element=\"f.1D7CD96253A62B07820849FEF0A66C19.d.4562648F8383D5B7CE4F19D77CF31619.e.98\")>,\n",
       " <selenium.webdriver.remote.webelement.WebElement (session=\"b59463b867f837d3e4a7ac4450d7329e\", element=\"f.1D7CD96253A62B07820849FEF0A66C19.d.4562648F8383D5B7CE4F19D77CF31619.e.99\")>,\n",
       " <selenium.webdriver.remote.webelement.WebElement (session=\"b59463b867f837d3e4a7ac4450d7329e\", element=\"f.1D7CD96253A62B07820849FEF0A66C19.d.4562648F8383D5B7CE4F19D77CF31619.e.100\")>,\n",
       " <selenium.webdriver.remote.webelement.WebElement (session=\"b59463b867f837d3e4a7ac4450d7329e\", element=\"f.1D7CD96253A62B07820849FEF0A66C19.d.4562648F8383D5B7CE4F19D77CF31619.e.101\")>,\n",
       " <selenium.webdriver.remote.webelement.WebElement (session=\"b59463b867f837d3e4a7ac4450d7329e\", element=\"f.1D7CD96253A62B07820849FEF0A66C19.d.4562648F8383D5B7CE4F19D77CF31619.e.102\")>,\n",
       " <selenium.webdriver.remote.webelement.WebElement (session=\"b59463b867f837d3e4a7ac4450d7329e\", element=\"f.1D7CD96253A62B07820849FEF0A66C19.d.4562648F8383D5B7CE4F19D77CF31619.e.103\")>,\n",
       " <selenium.webdriver.remote.webelement.WebElement (session=\"b59463b867f837d3e4a7ac4450d7329e\", element=\"f.1D7CD96253A62B07820849FEF0A66C19.d.4562648F8383D5B7CE4F19D77CF31619.e.104\")>,\n",
       " <selenium.webdriver.remote.webelement.WebElement (session=\"b59463b867f837d3e4a7ac4450d7329e\", element=\"f.1D7CD96253A62B07820849FEF0A66C19.d.4562648F8383D5B7CE4F19D77CF31619.e.105\")>,\n",
       " <selenium.webdriver.remote.webelement.WebElement (session=\"b59463b867f837d3e4a7ac4450d7329e\", element=\"f.1D7CD96253A62B07820849FEF0A66C19.d.4562648F8383D5B7CE4F19D77CF31619.e.106\")>,\n",
       " <selenium.webdriver.remote.webelement.WebElement (session=\"b59463b867f837d3e4a7ac4450d7329e\", element=\"f.1D7CD96253A62B07820849FEF0A66C19.d.4562648F8383D5B7CE4F19D77CF31619.e.107\")>]"
      ]
     },
     "execution_count": 249,
     "metadata": {},
     "output_type": "execute_result"
    }
   ],
   "source": [
    "month_containers = browser.find_elements(by = By.XPATH, value = \"//div[@class = 'arco-picker-body']//div[@class= 'arco-picker-date-value']\")\n",
    "month_containers"
   ]
  },
  {
   "cell_type": "code",
   "execution_count": null,
   "metadata": {},
   "outputs": [
    {
     "data": {
      "text/plain": [
       "12"
      ]
     },
     "execution_count": 250,
     "metadata": {},
     "output_type": "execute_result"
    }
   ],
   "source": [
    "len(month_containers)"
   ]
  },
  {
   "cell_type": "code",
   "execution_count": null,
   "metadata": {},
   "outputs": [
    {
     "name": "stdout",
     "output_type": "stream",
     "text": [
      "Jan\n",
      "Feb\n",
      "Mar\n",
      "Apr\n",
      "May\n",
      "Jun\n",
      "Jul\n",
      "Aug\n",
      "Sept\n",
      "Oct\n",
      "Nov\n",
      "Dec\n"
     ]
    }
   ],
   "source": [
    "for i in month_containers: \n",
    "    print(i.get_attribute('textContent'))"
   ]
  },
  {
   "cell_type": "markdown",
   "metadata": {},
   "source": [
    "### April"
   ]
  },
  {
   "cell_type": "code",
   "execution_count": null,
   "metadata": {},
   "outputs": [
    {
     "data": {
      "text/plain": [
       "'Apr'"
      ]
     },
     "execution_count": 252,
     "metadata": {},
     "output_type": "execute_result"
    }
   ],
   "source": [
    "month_containers[3].get_attribute('textContent')"
   ]
  },
  {
   "cell_type": "code",
   "execution_count": null,
   "metadata": {},
   "outputs": [],
   "source": [
    "month_containers[3].click()"
   ]
  },
  {
   "cell_type": "code",
   "execution_count": null,
   "metadata": {},
   "outputs": [],
   "source": [
    "list_date = browser.find_elements(by=By.XPATH, value='//div[@class = \"arco-picker-body\"]//div[@class =\"arco-picker-date-value\"]')"
   ]
  },
  {
   "cell_type": "code",
   "execution_count": null,
   "metadata": {},
   "outputs": [
    {
     "name": "stdout",
     "output_type": "stream",
     "text": [
      "1\n",
      "2\n",
      "3\n",
      "4\n",
      "5\n",
      "6\n",
      "7\n",
      "8\n",
      "9\n",
      "10\n",
      "11\n",
      "12\n",
      "13\n",
      "14\n",
      "15\n",
      "16\n",
      "17\n",
      "18\n",
      "19\n",
      "20\n",
      "21\n",
      "22\n",
      "23\n",
      "24\n",
      "25\n",
      "26\n",
      "27\n",
      "28\n",
      "29\n",
      "30\n",
      "1\n",
      "2\n",
      "3\n",
      "4\n",
      "5\n",
      "6\n",
      "7\n",
      "8\n",
      "9\n",
      "10\n",
      "11\n",
      "12\n"
     ]
    }
   ],
   "source": [
    "for i in list_date: \n",
    "    print(i.get_attribute('textContent'))"
   ]
  },
  {
   "cell_type": "code",
   "execution_count": null,
   "metadata": {},
   "outputs": [],
   "source": [
    "   \n",
    "my_dict = {i:int(i.get_attribute('textContent')) for i in list_date}"
   ]
  },
  {
   "cell_type": "code",
   "execution_count": null,
   "metadata": {},
   "outputs": [
    {
     "data": {
      "text/plain": [
       "{<selenium.webdriver.remote.webelement.WebElement (session=\"b59463b867f837d3e4a7ac4450d7329e\", element=\"f.1D7CD96253A62B07820849FEF0A66C19.d.4562648F8383D5B7CE4F19D77CF31619.e.108\")>: 1,\n",
       " <selenium.webdriver.remote.webelement.WebElement (session=\"b59463b867f837d3e4a7ac4450d7329e\", element=\"f.1D7CD96253A62B07820849FEF0A66C19.d.4562648F8383D5B7CE4F19D77CF31619.e.109\")>: 2,\n",
       " <selenium.webdriver.remote.webelement.WebElement (session=\"b59463b867f837d3e4a7ac4450d7329e\", element=\"f.1D7CD96253A62B07820849FEF0A66C19.d.4562648F8383D5B7CE4F19D77CF31619.e.110\")>: 3,\n",
       " <selenium.webdriver.remote.webelement.WebElement (session=\"b59463b867f837d3e4a7ac4450d7329e\", element=\"f.1D7CD96253A62B07820849FEF0A66C19.d.4562648F8383D5B7CE4F19D77CF31619.e.111\")>: 4,\n",
       " <selenium.webdriver.remote.webelement.WebElement (session=\"b59463b867f837d3e4a7ac4450d7329e\", element=\"f.1D7CD96253A62B07820849FEF0A66C19.d.4562648F8383D5B7CE4F19D77CF31619.e.112\")>: 5,\n",
       " <selenium.webdriver.remote.webelement.WebElement (session=\"b59463b867f837d3e4a7ac4450d7329e\", element=\"f.1D7CD96253A62B07820849FEF0A66C19.d.4562648F8383D5B7CE4F19D77CF31619.e.113\")>: 6,\n",
       " <selenium.webdriver.remote.webelement.WebElement (session=\"b59463b867f837d3e4a7ac4450d7329e\", element=\"f.1D7CD96253A62B07820849FEF0A66C19.d.4562648F8383D5B7CE4F19D77CF31619.e.114\")>: 7,\n",
       " <selenium.webdriver.remote.webelement.WebElement (session=\"b59463b867f837d3e4a7ac4450d7329e\", element=\"f.1D7CD96253A62B07820849FEF0A66C19.d.4562648F8383D5B7CE4F19D77CF31619.e.115\")>: 8,\n",
       " <selenium.webdriver.remote.webelement.WebElement (session=\"b59463b867f837d3e4a7ac4450d7329e\", element=\"f.1D7CD96253A62B07820849FEF0A66C19.d.4562648F8383D5B7CE4F19D77CF31619.e.116\")>: 9,\n",
       " <selenium.webdriver.remote.webelement.WebElement (session=\"b59463b867f837d3e4a7ac4450d7329e\", element=\"f.1D7CD96253A62B07820849FEF0A66C19.d.4562648F8383D5B7CE4F19D77CF31619.e.117\")>: 10,\n",
       " <selenium.webdriver.remote.webelement.WebElement (session=\"b59463b867f837d3e4a7ac4450d7329e\", element=\"f.1D7CD96253A62B07820849FEF0A66C19.d.4562648F8383D5B7CE4F19D77CF31619.e.118\")>: 11,\n",
       " <selenium.webdriver.remote.webelement.WebElement (session=\"b59463b867f837d3e4a7ac4450d7329e\", element=\"f.1D7CD96253A62B07820849FEF0A66C19.d.4562648F8383D5B7CE4F19D77CF31619.e.119\")>: 12,\n",
       " <selenium.webdriver.remote.webelement.WebElement (session=\"b59463b867f837d3e4a7ac4450d7329e\", element=\"f.1D7CD96253A62B07820849FEF0A66C19.d.4562648F8383D5B7CE4F19D77CF31619.e.120\")>: 13,\n",
       " <selenium.webdriver.remote.webelement.WebElement (session=\"b59463b867f837d3e4a7ac4450d7329e\", element=\"f.1D7CD96253A62B07820849FEF0A66C19.d.4562648F8383D5B7CE4F19D77CF31619.e.121\")>: 14,\n",
       " <selenium.webdriver.remote.webelement.WebElement (session=\"b59463b867f837d3e4a7ac4450d7329e\", element=\"f.1D7CD96253A62B07820849FEF0A66C19.d.4562648F8383D5B7CE4F19D77CF31619.e.122\")>: 15,\n",
       " <selenium.webdriver.remote.webelement.WebElement (session=\"b59463b867f837d3e4a7ac4450d7329e\", element=\"f.1D7CD96253A62B07820849FEF0A66C19.d.4562648F8383D5B7CE4F19D77CF31619.e.123\")>: 16,\n",
       " <selenium.webdriver.remote.webelement.WebElement (session=\"b59463b867f837d3e4a7ac4450d7329e\", element=\"f.1D7CD96253A62B07820849FEF0A66C19.d.4562648F8383D5B7CE4F19D77CF31619.e.124\")>: 17,\n",
       " <selenium.webdriver.remote.webelement.WebElement (session=\"b59463b867f837d3e4a7ac4450d7329e\", element=\"f.1D7CD96253A62B07820849FEF0A66C19.d.4562648F8383D5B7CE4F19D77CF31619.e.125\")>: 18,\n",
       " <selenium.webdriver.remote.webelement.WebElement (session=\"b59463b867f837d3e4a7ac4450d7329e\", element=\"f.1D7CD96253A62B07820849FEF0A66C19.d.4562648F8383D5B7CE4F19D77CF31619.e.126\")>: 19,\n",
       " <selenium.webdriver.remote.webelement.WebElement (session=\"b59463b867f837d3e4a7ac4450d7329e\", element=\"f.1D7CD96253A62B07820849FEF0A66C19.d.4562648F8383D5B7CE4F19D77CF31619.e.127\")>: 20,\n",
       " <selenium.webdriver.remote.webelement.WebElement (session=\"b59463b867f837d3e4a7ac4450d7329e\", element=\"f.1D7CD96253A62B07820849FEF0A66C19.d.4562648F8383D5B7CE4F19D77CF31619.e.128\")>: 21,\n",
       " <selenium.webdriver.remote.webelement.WebElement (session=\"b59463b867f837d3e4a7ac4450d7329e\", element=\"f.1D7CD96253A62B07820849FEF0A66C19.d.4562648F8383D5B7CE4F19D77CF31619.e.129\")>: 22,\n",
       " <selenium.webdriver.remote.webelement.WebElement (session=\"b59463b867f837d3e4a7ac4450d7329e\", element=\"f.1D7CD96253A62B07820849FEF0A66C19.d.4562648F8383D5B7CE4F19D77CF31619.e.130\")>: 23,\n",
       " <selenium.webdriver.remote.webelement.WebElement (session=\"b59463b867f837d3e4a7ac4450d7329e\", element=\"f.1D7CD96253A62B07820849FEF0A66C19.d.4562648F8383D5B7CE4F19D77CF31619.e.131\")>: 24,\n",
       " <selenium.webdriver.remote.webelement.WebElement (session=\"b59463b867f837d3e4a7ac4450d7329e\", element=\"f.1D7CD96253A62B07820849FEF0A66C19.d.4562648F8383D5B7CE4F19D77CF31619.e.132\")>: 25,\n",
       " <selenium.webdriver.remote.webelement.WebElement (session=\"b59463b867f837d3e4a7ac4450d7329e\", element=\"f.1D7CD96253A62B07820849FEF0A66C19.d.4562648F8383D5B7CE4F19D77CF31619.e.133\")>: 26,\n",
       " <selenium.webdriver.remote.webelement.WebElement (session=\"b59463b867f837d3e4a7ac4450d7329e\", element=\"f.1D7CD96253A62B07820849FEF0A66C19.d.4562648F8383D5B7CE4F19D77CF31619.e.134\")>: 27,\n",
       " <selenium.webdriver.remote.webelement.WebElement (session=\"b59463b867f837d3e4a7ac4450d7329e\", element=\"f.1D7CD96253A62B07820849FEF0A66C19.d.4562648F8383D5B7CE4F19D77CF31619.e.135\")>: 28,\n",
       " <selenium.webdriver.remote.webelement.WebElement (session=\"b59463b867f837d3e4a7ac4450d7329e\", element=\"f.1D7CD96253A62B07820849FEF0A66C19.d.4562648F8383D5B7CE4F19D77CF31619.e.136\")>: 29,\n",
       " <selenium.webdriver.remote.webelement.WebElement (session=\"b59463b867f837d3e4a7ac4450d7329e\", element=\"f.1D7CD96253A62B07820849FEF0A66C19.d.4562648F8383D5B7CE4F19D77CF31619.e.137\")>: 30,\n",
       " <selenium.webdriver.remote.webelement.WebElement (session=\"b59463b867f837d3e4a7ac4450d7329e\", element=\"f.1D7CD96253A62B07820849FEF0A66C19.d.4562648F8383D5B7CE4F19D77CF31619.e.138\")>: 1,\n",
       " <selenium.webdriver.remote.webelement.WebElement (session=\"b59463b867f837d3e4a7ac4450d7329e\", element=\"f.1D7CD96253A62B07820849FEF0A66C19.d.4562648F8383D5B7CE4F19D77CF31619.e.139\")>: 2,\n",
       " <selenium.webdriver.remote.webelement.WebElement (session=\"b59463b867f837d3e4a7ac4450d7329e\", element=\"f.1D7CD96253A62B07820849FEF0A66C19.d.4562648F8383D5B7CE4F19D77CF31619.e.140\")>: 3,\n",
       " <selenium.webdriver.remote.webelement.WebElement (session=\"b59463b867f837d3e4a7ac4450d7329e\", element=\"f.1D7CD96253A62B07820849FEF0A66C19.d.4562648F8383D5B7CE4F19D77CF31619.e.141\")>: 4,\n",
       " <selenium.webdriver.remote.webelement.WebElement (session=\"b59463b867f837d3e4a7ac4450d7329e\", element=\"f.1D7CD96253A62B07820849FEF0A66C19.d.4562648F8383D5B7CE4F19D77CF31619.e.142\")>: 5,\n",
       " <selenium.webdriver.remote.webelement.WebElement (session=\"b59463b867f837d3e4a7ac4450d7329e\", element=\"f.1D7CD96253A62B07820849FEF0A66C19.d.4562648F8383D5B7CE4F19D77CF31619.e.143\")>: 6,\n",
       " <selenium.webdriver.remote.webelement.WebElement (session=\"b59463b867f837d3e4a7ac4450d7329e\", element=\"f.1D7CD96253A62B07820849FEF0A66C19.d.4562648F8383D5B7CE4F19D77CF31619.e.144\")>: 7,\n",
       " <selenium.webdriver.remote.webelement.WebElement (session=\"b59463b867f837d3e4a7ac4450d7329e\", element=\"f.1D7CD96253A62B07820849FEF0A66C19.d.4562648F8383D5B7CE4F19D77CF31619.e.145\")>: 8,\n",
       " <selenium.webdriver.remote.webelement.WebElement (session=\"b59463b867f837d3e4a7ac4450d7329e\", element=\"f.1D7CD96253A62B07820849FEF0A66C19.d.4562648F8383D5B7CE4F19D77CF31619.e.146\")>: 9,\n",
       " <selenium.webdriver.remote.webelement.WebElement (session=\"b59463b867f837d3e4a7ac4450d7329e\", element=\"f.1D7CD96253A62B07820849FEF0A66C19.d.4562648F8383D5B7CE4F19D77CF31619.e.147\")>: 10,\n",
       " <selenium.webdriver.remote.webelement.WebElement (session=\"b59463b867f837d3e4a7ac4450d7329e\", element=\"f.1D7CD96253A62B07820849FEF0A66C19.d.4562648F8383D5B7CE4F19D77CF31619.e.148\")>: 11,\n",
       " <selenium.webdriver.remote.webelement.WebElement (session=\"b59463b867f837d3e4a7ac4450d7329e\", element=\"f.1D7CD96253A62B07820849FEF0A66C19.d.4562648F8383D5B7CE4F19D77CF31619.e.149\")>: 12}"
      ]
     },
     "execution_count": 258,
     "metadata": {},
     "output_type": "execute_result"
    }
   ],
   "source": [
    "my_dict"
   ]
  },
  {
   "cell_type": "code",
   "execution_count": null,
   "metadata": {},
   "outputs": [],
   "source": [
    "list_path = []\n",
    "true_month = []\n",
    "found_first_one = False\n",
    "for k, v in my_dict.items(): \n",
    "    if found_first_one:\n",
    "        if v not in true_month: \n",
    "            list_path.append(k)\n",
    "            true_month.append(v)\n",
    "    if v ==1 and 1 in true_month: \n",
    "        break\n",
    "    elif v == 1: \n",
    "        found_first_one = True\n",
    "        list_path.append(k)\n",
    "        true_month.append(v)\n",
    "\n",
    "        "
   ]
  },
  {
   "cell_type": "code",
   "execution_count": null,
   "metadata": {},
   "outputs": [
    {
     "data": {
      "text/plain": [
       "30"
      ]
     },
     "execution_count": 260,
     "metadata": {},
     "output_type": "execute_result"
    }
   ],
   "source": [
    "len(true_month)"
   ]
  },
  {
   "cell_type": "code",
   "execution_count": null,
   "metadata": {},
   "outputs": [
    {
     "data": {
      "text/plain": [
       "[1,\n",
       " 2,\n",
       " 3,\n",
       " 4,\n",
       " 5,\n",
       " 6,\n",
       " 7,\n",
       " 8,\n",
       " 9,\n",
       " 10,\n",
       " 11,\n",
       " 12,\n",
       " 13,\n",
       " 14,\n",
       " 15,\n",
       " 16,\n",
       " 17,\n",
       " 18,\n",
       " 19,\n",
       " 20,\n",
       " 21,\n",
       " 22,\n",
       " 23,\n",
       " 24,\n",
       " 25,\n",
       " 26,\n",
       " 27,\n",
       " 28,\n",
       " 29,\n",
       " 30]"
      ]
     },
     "execution_count": 261,
     "metadata": {},
     "output_type": "execute_result"
    }
   ],
   "source": [
    "true_month"
   ]
  },
  {
   "cell_type": "code",
   "execution_count": null,
   "metadata": {},
   "outputs": [],
   "source": [
    "list_path[1].click()"
   ]
  },
  {
   "cell_type": "markdown",
   "metadata": {},
   "source": [
    "##### 1st day container "
   ]
  },
  {
   "cell_type": "markdown",
   "metadata": {},
   "source": [
    "#### shop info"
   ]
  },
  {
   "cell_type": "code",
   "execution_count": null,
   "metadata": {},
   "outputs": [],
   "source": [
    "list_shop_info = []\n",
    "div_shop_info = browser.find_elements(by = By.XPATH, value= '//div[@class = \"arco-table-body\"]//div[@class = \"overflow-hidden overflow-ellipsis\"]')\n",
    "for shop_info in div_shop_info: \n",
    "    list_shop_info.append(shop_info.get_attribute('textContent'))"
   ]
  },
  {
   "cell_type": "code",
   "execution_count": null,
   "metadata": {},
   "outputs": [
    {
     "data": {
      "text/plain": [
       "['Dear Skin Mall',\n",
       " 'Anessa Official Store',\n",
       " 'Senka Official Store',\n",
       " 'Tsubaki Official Store',\n",
       " \"L'oreal Paris Việt Nam\",\n",
       " 'Derma Club',\n",
       " 'dprogramvietnam',\n",
       " 'P&G Việt Nam',\n",
       " 'Molfix Việt Nam',\n",
       " 'miseenscenevn']"
      ]
     },
     "execution_count": 264,
     "metadata": {},
     "output_type": "execute_result"
    }
   ],
   "source": [
    "list_shop_info"
   ]
  },
  {
   "cell_type": "markdown",
   "metadata": {},
   "source": [
    "#### GMV"
   ]
  },
  {
   "cell_type": "code",
   "execution_count": null,
   "metadata": {},
   "outputs": [
    {
     "data": {
      "text/plain": [
       "70"
      ]
     },
     "execution_count": 265,
     "metadata": {},
     "output_type": "execute_result"
    }
   ],
   "source": [
    "span_gmv = browser.find_elements(by = By.XPATH, value= '//td[@class = \"arco-table-td\"]')\n",
    "len(span_gmv)"
   ]
  },
  {
   "cell_type": "code",
   "execution_count": null,
   "metadata": {},
   "outputs": [],
   "source": [
    "value = []\n",
    "for i in span_gmv: \n",
    "    value.append(i.get_attribute('textContent'))"
   ]
  },
  {
   "cell_type": "code",
   "execution_count": null,
   "metadata": {},
   "outputs": [
    {
     "data": {
      "text/plain": [
       "['18.165.200₫',\n",
       " '312',\n",
       " '184',\n",
       " '179.000₫',\n",
       " '228,456',\n",
       " '5,823',\n",
       " '3.16%',\n",
       " '40.447.380₫',\n",
       " '203',\n",
       " '69',\n",
       " '559.500₫',\n",
       " '142,395',\n",
       " '3,657',\n",
       " '1.89%',\n",
       " '4.781.600₫',\n",
       " '29',\n",
       " '23',\n",
       " '0₫',\n",
       " '1,107,511',\n",
       " '2,561',\n",
       " '0.9%',\n",
       " '600.200₫',\n",
       " '3',\n",
       " '3',\n",
       " '0₫',\n",
       " '759,790',\n",
       " '566',\n",
       " '0.53%',\n",
       " '68.568.184₫',\n",
       " '243',\n",
       " '164',\n",
       " '254.000₫',\n",
       " '964,572',\n",
       " '32,900',\n",
       " '0.5%',\n",
       " '11.065.723₫',\n",
       " '23',\n",
       " '22',\n",
       " '0₫',\n",
       " '96,283',\n",
       " '1,635',\n",
       " '1.35%',\n",
       " '1.793.500₫',\n",
       " '15',\n",
       " '4',\n",
       " '0₫',\n",
       " '3,988',\n",
       " '73',\n",
       " '5.48%',\n",
       " '169.023.930₫',\n",
       " '551',\n",
       " '486',\n",
       " '1.185.900₫',\n",
       " '3,208,312',\n",
       " '22,365',\n",
       " '2.17%',\n",
       " '12.782.100₫',\n",
       " '29',\n",
       " '26',\n",
       " '0₫',\n",
       " '30,868',\n",
       " '803',\n",
       " '3.24%',\n",
       " '1.069.850₫',\n",
       " '4',\n",
       " '4',\n",
       " '0₫',\n",
       " '8,438',\n",
       " '192',\n",
       " '2.08%']"
      ]
     },
     "execution_count": 267,
     "metadata": {},
     "output_type": "execute_result"
    }
   ],
   "source": [
    "value"
   ]
  },
  {
   "cell_type": "code",
   "execution_count": null,
   "metadata": {},
   "outputs": [
    {
     "data": {
      "text/plain": [
       "['18.165.200₫',\n",
       " '40.447.380₫',\n",
       " '4.781.600₫',\n",
       " '600.200₫',\n",
       " '68.568.184₫',\n",
       " '11.065.723₫',\n",
       " '1.793.500₫',\n",
       " '169.023.930₫',\n",
       " '12.782.100₫',\n",
       " '1.069.850₫']"
      ]
     },
     "execution_count": 268,
     "metadata": {},
     "output_type": "execute_result"
    }
   ],
   "source": [
    "gmv = []\n",
    "for i in range (0, len(value), 7):\n",
    "    gmv.append(value[i])\n",
    "gmv"
   ]
  },
  {
   "cell_type": "code",
   "execution_count": null,
   "metadata": {},
   "outputs": [
    {
     "data": {
      "text/plain": [
       "['312', '203', '29', '3', '243', '23', '15', '551', '29', '4']"
      ]
     },
     "execution_count": 269,
     "metadata": {},
     "output_type": "execute_result"
    }
   ],
   "source": [
    "product_sold = []\n",
    "for i in range (1, len(value), 7):\n",
    "    product_sold.append(value[i])\n",
    "product_sold"
   ]
  },
  {
   "cell_type": "code",
   "execution_count": null,
   "metadata": {},
   "outputs": [],
   "source": [
    "product_sold = []\n",
    "for i in range (1, len(value), 7):\n",
    "    product_sold.append(value[i])\n",
    "product_sold"
   ]
  }
 ],
 "metadata": {
  "kernelspec": {
   "display_name": "Python 3",
   "language": "python",
   "name": "python3"
  },
  "language_info": {
   "codemirror_mode": {
    "name": "ipython",
    "version": 3
   },
   "file_extension": ".py",
   "mimetype": "text/x-python",
   "name": "python",
   "nbconvert_exporter": "python",
   "pygments_lexer": "ipython3",
   "version": "3.11.7"
  }
 },
 "nbformat": 4,
 "nbformat_minor": 2
}

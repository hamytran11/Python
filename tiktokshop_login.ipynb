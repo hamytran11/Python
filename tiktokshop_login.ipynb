{
 "cells": [
  {
   "cell_type": "code",
   "execution_count": 1,
   "metadata": {},
   "outputs": [
    {
     "name": "stdout",
     "output_type": "stream",
     "text": [
      "Requirement already satisfied: selenium in c:\\users\\admin\\anaconda3\\lib\\site-packages (4.20.0)\n",
      "Requirement already satisfied: urllib3<3,>=1.26 in c:\\users\\admin\\anaconda3\\lib\\site-packages (from urllib3[socks]<3,>=1.26->selenium) (2.0.7)\n",
      "Requirement already satisfied: trio~=0.17 in c:\\users\\admin\\anaconda3\\lib\\site-packages (from selenium) (0.25.0)\n",
      "Requirement already satisfied: trio-websocket~=0.9 in c:\\users\\admin\\anaconda3\\lib\\site-packages (from selenium) (0.11.1)\n",
      "Requirement already satisfied: certifi>=2021.10.8 in c:\\users\\admin\\anaconda3\\lib\\site-packages (from selenium) (2024.2.2)\n",
      "Requirement already satisfied: typing_extensions>=4.9.0 in c:\\users\\admin\\anaconda3\\lib\\site-packages (from selenium) (4.9.0)\n",
      "Requirement already satisfied: attrs>=23.2.0 in c:\\users\\admin\\anaconda3\\lib\\site-packages (from trio~=0.17->selenium) (23.2.0)\n",
      "Requirement already satisfied: sortedcontainers in c:\\users\\admin\\anaconda3\\lib\\site-packages (from trio~=0.17->selenium) (2.4.0)\n",
      "Requirement already satisfied: idna in c:\\users\\admin\\anaconda3\\lib\\site-packages (from trio~=0.17->selenium) (3.4)\n",
      "Requirement already satisfied: outcome in c:\\users\\admin\\anaconda3\\lib\\site-packages (from trio~=0.17->selenium) (1.3.0.post0)\n",
      "Requirement already satisfied: sniffio>=1.3.0 in c:\\users\\admin\\anaconda3\\lib\\site-packages (from trio~=0.17->selenium) (1.3.0)\n",
      "Requirement already satisfied: cffi>=1.14 in c:\\users\\admin\\anaconda3\\lib\\site-packages (from trio~=0.17->selenium) (1.16.0)\n",
      "Requirement already satisfied: wsproto>=0.14 in c:\\users\\admin\\anaconda3\\lib\\site-packages (from trio-websocket~=0.9->selenium) (1.2.0)\n",
      "Requirement already satisfied: pysocks!=1.5.7,<2.0,>=1.5.6 in c:\\users\\admin\\anaconda3\\lib\\site-packages (from urllib3[socks]<3,>=1.26->selenium) (1.7.1)\n",
      "Requirement already satisfied: pycparser in c:\\users\\admin\\anaconda3\\lib\\site-packages (from cffi>=1.14->trio~=0.17->selenium) (2.21)\n",
      "Requirement already satisfied: h11<1,>=0.9.0 in c:\\users\\admin\\anaconda3\\lib\\site-packages (from wsproto>=0.14->trio-websocket~=0.9->selenium) (0.14.0)\n",
      "Note: you may need to restart the kernel to use updated packages.\n"
     ]
    }
   ],
   "source": [
    "pip install selenium"
   ]
  },
  {
   "cell_type": "code",
   "execution_count": 3,
   "metadata": {},
   "outputs": [],
   "source": [
    "import time\n",
    "from selenium import webdriver\n",
    "from selenium.webdriver.common.keys import Keys\n",
    "from selenium.webdriver.common.by import By\n",
    "from selenium.webdriver.support.ui import WebDriverWait\n",
    "from selenium.webdriver.support import expected_conditions as EC\n",
    "from user import username_tiktok, password_tiktok\n",
    "\n",
    "chrome_options = webdriver.ChromeOptions()\n",
    "chrome_options.add_experimental_option(\"useAutomationExtension\", False)\n",
    "chrome_options.add_experimental_option(\"excludeSwitches\", [\"enable-automation\"])"
   ]
  },
  {
   "cell_type": "code",
   "execution_count": 44,
   "metadata": {},
   "outputs": [
    {
     "name": "stdout",
     "output_type": "stream",
     "text": [
      "An error occurred: Message: no such element: Unable to locate element: {\"method\":\"css selector\",\"selector\":\".text-20 font-semibold mt-4 text-neutral-text1\"}\n",
      "  (Session info: chrome=124.0.6367.119); For documentation on this error, please visit: https://www.selenium.dev/documentation/webdriver/troubleshooting/errors#no-such-element-exception\n",
      "Stacktrace:\n",
      "\tGetHandleVerifier [0x00007FF65E931572+60802]\n",
      "\t(No symbol) [0x00007FF65E8AAC72]\n",
      "\t(No symbol) [0x00007FF65E767CE4]\n",
      "\t(No symbol) [0x00007FF65E7B6D4D]\n",
      "\t(No symbol) [0x00007FF65E7B6E1C]\n",
      "\t(No symbol) [0x00007FF65E7FCE37]\n",
      "\t(No symbol) [0x00007FF65E7DABBF]\n",
      "\t(No symbol) [0x00007FF65E7FA224]\n",
      "\t(No symbol) [0x00007FF65E7DA923]\n",
      "\t(No symbol) [0x00007FF65E7A8FEC]\n",
      "\t(No symbol) [0x00007FF65E7A9C21]\n",
      "\tGetHandleVerifier [0x00007FF65EC3420D+3217949]\n",
      "\tGetHandleVerifier [0x00007FF65EC761A7+3488183]\n",
      "\tGetHandleVerifier [0x00007FF65EC6F12F+3459391]\n",
      "\tGetHandleVerifier [0x00007FF65E9EB936+823622]\n",
      "\t(No symbol) [0x00007FF65E8B600F]\n",
      "\t(No symbol) [0x00007FF65E8B0F34]\n",
      "\t(No symbol) [0x00007FF65E8B10C2]\n",
      "\t(No symbol) [0x00007FF65E8A1914]\n",
      "\tBaseThreadInitThunk [0x00007FF89196257D+29]\n",
      "\tRtlUserThreadStart [0x00007FF893B4AA48+40]\n",
      "\n"
     ]
    }
   ],
   "source": [
    "# Disable password manager feature\n",
    "prefs = {\"credentials_enable_service\": False, \"profile.password_manager_enabled\": False}\n",
    "chrome_options.add_experimental_option(\"prefs\", prefs)\n",
    "\n",
    "# Start a new Chrome session\n",
    "browser = webdriver.Chrome(options=chrome_options)\n",
    "browser.maximize_window()\n",
    "\n",
    "# Navigate to the login page\n",
    "browser.get(\"https://partner.tiktokshop.com/account/login\")\n",
    "\n",
    "try:\n",
    "    # Wait for email field to be present\n",
    "    email_field = WebDriverWait(browser, 10).until(EC.presence_of_element_located((By.XPATH, '//*[@id=\"email\"]/div/div/span/span/input')))\n",
    "    email_field.send_keys(username_tiktok)\n",
    "\n",
    "    # Wait for password field to be present\n",
    "    password_field = WebDriverWait(browser, 10).until(EC.presence_of_element_located((By.XPATH, '//*[@id=\"password_input\"]')))\n",
    "    password_field.send_keys(password_tiktok)\n",
    "\n",
    "    # Submit the login form\n",
    "    password_field.send_keys(Keys.RETURN)\n",
    "  \n",
    "    # Click on the specified button\n",
    "    button = WebDriverWait(browser, 10).until(EC.element_to_be_clickable((By.XPATH, '//*[@id=\"root\"]/div/div[1]/div[1]/div[2]/div[8]')))\n",
    "    button.click()\n",
    "    time.sleep(2)\n",
    "    #popup\n",
    "    button2 = WebDriverWait(browser, 10).until(EC.element_to_be_clickable((By.XPATH, '/html/body/div[3]/div[2]/div/div[2]/div[3]/div/button')))\n",
    "    button2.click()\n",
    "    time.sleep(2)\n",
    "    #timerange\n",
    "    button3 = WebDriverWait(browser, 10).until(EC.element_to_be_clickable((By.CLASS_NAME, 'arco-space-item')))\n",
    "    button3.click()\n",
    "    time.sleep(1)\n",
    "    #timerange_clickdate\n",
    "    button4 = WebDriverWait(browser, 10).until(EC.element_to_be_clickable((By.XPATH, '/html/body/div[4]/span/div/div/div[2]/div[1]/div[3]')))\n",
    "    button4.click()\n",
    "    time.sleep(1)\n",
    "    # choose month filter\n",
    "    button5 = WebDriverWait(browser, 10).until(EC.element_to_be_clickable((By.XPATH, '/html/body/div[4]/span/div/div/div[2]/div[2]/div/div/div[1]/div[3]/span[2]')))\n",
    "    button5.click()\n",
    "    time.sleep(1)\n",
    "    # choose month jan\n",
    "    button6 = WebDriverWait(browser, 10).until(EC.element_to_be_clickable((By.CLASS_NAME, 'arco-picker-date')))\n",
    "    button6.click()\n",
    "    time.sleep(1)\n",
    "     # choose month 24.01\n",
    "    date_element = WebDriverWait(browser, 10).until(EC.element_to_be_clickable((By.XPATH, \"/html/body/div[4]/span/div/div/div[2]/div[2]/div/div/div[3]/div[4]/div[3]/div\")))\n",
    "    date_element.click()\n",
    "    time.sleep(1)\n",
    "    #chọn sale core\n",
    "    element = browser.find_element(By.CLASS_NAME, 'text-20 font-semibold mt-4 text-neutral-text1')\n",
    "    print(element.text)\n",
    "except Exception as e:\n",
    "    print(\"An error occurred:\", e)\n"
   ]
  }
 ],
 "metadata": {
  "kernelspec": {
   "display_name": "base",
   "language": "python",
   "name": "python3"
  },
  "language_info": {
   "codemirror_mode": {
    "name": "ipython",
    "version": 3
   },
   "file_extension": ".py",
   "mimetype": "text/x-python",
   "name": "python",
   "nbconvert_exporter": "python",
   "pygments_lexer": "ipython3",
   "version": "3.11.7"
  }
 },
 "nbformat": 4,
 "nbformat_minor": 2
}

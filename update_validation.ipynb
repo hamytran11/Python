{
 "cells": [
  {
   "cell_type": "code",
   "execution_count": 5,
   "metadata": {},
   "outputs": [
    {
     "name": "stdout",
     "output_type": "stream",
     "text": [
      "Defaulting to user installation because normal site-packages is not writeable\n",
      "Requirement already satisfied: selenium in c:\\users\\op-lt-0315\\appdata\\roaming\\python\\python311\\site-packages (4.21.0)\n",
      "Requirement already satisfied: urllib3<3,>=1.26 in c:\\programdata\\anaconda3\\lib\\site-packages (from urllib3[socks]<3,>=1.26->selenium) (2.0.7)\n",
      "Requirement already satisfied: trio~=0.17 in c:\\users\\op-lt-0315\\appdata\\roaming\\python\\python311\\site-packages (from selenium) (0.25.1)\n",
      "Requirement already satisfied: trio-websocket~=0.9 in c:\\users\\op-lt-0315\\appdata\\roaming\\python\\python311\\site-packages (from selenium) (0.11.1)\n",
      "Requirement already satisfied: certifi>=2021.10.8 in c:\\programdata\\anaconda3\\lib\\site-packages (from selenium) (2024.2.2)\n",
      "Requirement already satisfied: typing_extensions>=4.9.0 in c:\\programdata\\anaconda3\\lib\\site-packages (from selenium) (4.9.0)\n",
      "Requirement already satisfied: attrs>=23.2.0 in c:\\users\\op-lt-0315\\appdata\\roaming\\python\\python311\\site-packages (from trio~=0.17->selenium) (23.2.0)\n",
      "Requirement already satisfied: sortedcontainers in c:\\programdata\\anaconda3\\lib\\site-packages (from trio~=0.17->selenium) (2.4.0)\n",
      "Requirement already satisfied: idna in c:\\programdata\\anaconda3\\lib\\site-packages (from trio~=0.17->selenium) (3.4)\n",
      "Requirement already satisfied: outcome in c:\\users\\op-lt-0315\\appdata\\roaming\\python\\python311\\site-packages (from trio~=0.17->selenium) (1.3.0.post0)\n",
      "Requirement already satisfied: sniffio>=1.3.0 in c:\\programdata\\anaconda3\\lib\\site-packages (from trio~=0.17->selenium) (1.3.0)\n",
      "Requirement already satisfied: cffi>=1.14 in c:\\programdata\\anaconda3\\lib\\site-packages (from trio~=0.17->selenium) (1.16.0)\n",
      "Requirement already satisfied: wsproto>=0.14 in c:\\users\\op-lt-0315\\appdata\\roaming\\python\\python311\\site-packages (from trio-websocket~=0.9->selenium) (1.2.0)\n",
      "Requirement already satisfied: pysocks!=1.5.7,<2.0,>=1.5.6 in c:\\programdata\\anaconda3\\lib\\site-packages (from urllib3[socks]<3,>=1.26->selenium) (1.7.1)\n",
      "Requirement already satisfied: pycparser in c:\\programdata\\anaconda3\\lib\\site-packages (from cffi>=1.14->trio~=0.17->selenium) (2.21)\n",
      "Requirement already satisfied: h11<1,>=0.9.0 in c:\\users\\op-lt-0315\\appdata\\roaming\\python\\python311\\site-packages (from wsproto>=0.14->trio-websocket~=0.9->selenium) (0.14.0)\n",
      "Note: you may need to restart the kernel to use updated packages.\n"
     ]
    }
   ],
   "source": [
    "pip install selenium"
   ]
  },
  {
   "cell_type": "code",
   "execution_count": 6,
   "metadata": {},
   "outputs": [],
   "source": [
    "import time\n",
    "from selenium import webdriver\n",
    "from selenium.webdriver.common.keys import Keys\n",
    "from selenium.webdriver.common.by import By\n",
    "from selenium.webdriver.support.ui import WebDriverWait\n",
    "from selenium.webdriver.support import expected_conditions as EC\n",
    "from user_pbi import username_pbi, password_pbi\n",
    "\n",
    "chrome_options = webdriver.ChromeOptions()\n",
    "chrome_options.add_experimental_option(\"useAutomationExtension\", False)\n",
    "chrome_options.add_experimental_option(\"excludeSwitches\", [\"enable-automation\"])"
   ]
  },
  {
   "cell_type": "code",
   "execution_count": 8,
   "metadata": {},
   "outputs": [
    {
     "name": "stdout",
     "output_type": "stream",
     "text": [
      "An error occurred: Message: element not interactable\n",
      "  (Session info: chrome=125.0.6422.77)\n",
      "Stacktrace:\n",
      "\tGetHandleVerifier [0x00007FF7C73F1F22+60322]\n",
      "\t(No symbol) [0x00007FF7C736CE99]\n",
      "\t(No symbol) [0x00007FF7C7227CE9]\n",
      "\t(No symbol) [0x00007FF7C7271093]\n",
      "\t(No symbol) [0x00007FF7C726F20B]\n",
      "\t(No symbol) [0x00007FF7C729C21A]\n",
      "\t(No symbol) [0x00007FF7C726ADB6]\n",
      "\t(No symbol) [0x00007FF7C729C430]\n",
      "\t(No symbol) [0x00007FF7C72BBC80]\n",
      "\t(No symbol) [0x00007FF7C729BFC3]\n",
      "\t(No symbol) [0x00007FF7C7269617]\n",
      "\t(No symbol) [0x00007FF7C726A211]\n",
      "\tGetHandleVerifier [0x00007FF7C770946D+3301613]\n",
      "\tGetHandleVerifier [0x00007FF7C7753693+3605267]\n",
      "\tGetHandleVerifier [0x00007FF7C7749410+3563664]\n",
      "\tGetHandleVerifier [0x00007FF7C74A42F6+790390]\n",
      "\t(No symbol) [0x00007FF7C73774DF]\n",
      "\t(No symbol) [0x00007FF7C73733D4]\n",
      "\t(No symbol) [0x00007FF7C7373562]\n",
      "\t(No symbol) [0x00007FF7C7362F6F]\n",
      "\tBaseThreadInitThunk [0x00007FF85860257D+29]\n",
      "\tRtlUserThreadStart [0x00007FF859BCAA48+40]\n",
      "\n"
     ]
    }
   ],
   "source": [
    "\n",
    "# Disable password manager feature\n",
    "prefs = {\"credentials_enable_service\": False, \"profile.password_manager_enabled\": False}\n",
    "chrome_options.add_experimental_option(\"prefs\", prefs)\n",
    "\n",
    "# Start a new Chrome session\n",
    "browser = webdriver.Chrome(options=chrome_options)\n",
    "browser.maximize_window()\n",
    "\n",
    "# Navigate to the login page\n",
    "browser.get(\"https://app.powerbi.com/datahub?ctid=1d2b5cec-3162-4785-98c3-832a31d83218&experience=power-bi\")\n",
    "\n",
    "try:\n",
    "# Wait for email field to be present\n",
    "    email_field = WebDriverWait(browser, 10).until(EC.presence_of_element_located((By.ID, 'email')))\n",
    "    email_field.send_keys(username_pbi)\n",
    "    email_field.send_keys(Keys.RETURN)\n",
    "\n",
    "# Wait for password field to be present\n",
    "    password_field = WebDriverWait(browser, 10).until(EC.presence_of_element_located((By.ID, 'i0118')))\n",
    "    password_field.send_keys(password_pbi)\n",
    "    password_field.send_keys(Keys.RETURN)\n",
    "\n",
    "# Handle popup if any\n",
    "    popup = WebDriverWait(browser, 10).until(EC.element_to_be_clickable((By.ID, 'idSIButton9')))\n",
    "    popup.click()\n",
    "#my data\n",
    "    mydata = WebDriverWait(browser, 10).until(EC.element_to_be_clickable((By.XPATH, '//*[@id=\"my-data-tab\"]/div')))\n",
    "    mydata.click()\n",
    "\n",
    "    browser.get(\"https://app.powerbi.com/groups/me/reports/41541589-b14a-41b0-b1d6-1e041c3460fb/ReportSectiond501b45dbde554a7327d?ctid=1d2b5cec-3162-4785-98c3-832a31d83218&experience=power-bi\")\n",
    "\n",
    "# Wait for the table to be visible\n",
    "    table_element = WebDriverWait(browser, 20).until(EC.presence_of_element_located((By.CLASS_NAME, 'visualWrapper report')))\n",
    "    \n",
    " # Extract data from the table\n",
    "    rows = table_element.find_elements(By.TAG_NAME, 'tr')\n",
    "    data = []\n",
    "    for row in rows:\n",
    "        cols = row.find_elements(By.TAG_NAME, 'td')\n",
    "        cols = [col.text for col in cols]\n",
    "        data.append(cols)\n",
    "   \n",
    "# Print the extracted data\n",
    "    for row in data:\n",
    "        print(row)\n",
    "\n",
    "except Exception as e:\n",
    "    print(\"An error occurred:\", e)\n"
   ]
  },
  {
   "cell_type": "code",
   "execution_count": null,
   "metadata": {},
   "outputs": [],
   "source": []
  }
 ],
 "metadata": {
  "kernelspec": {
   "display_name": "base",
   "language": "python",
   "name": "python3"
  },
  "language_info": {
   "codemirror_mode": {
    "name": "ipython",
    "version": 3
   },
   "file_extension": ".py",
   "mimetype": "text/x-python",
   "name": "python",
   "nbconvert_exporter": "python",
   "pygments_lexer": "ipython3",
   "version": "3.11.7"
  }
 },
 "nbformat": 4,
 "nbformat_minor": 2
}

{
 "cells": [
  {
   "cell_type": "code",
   "execution_count": 5,
   "id": "67b1e015",
   "metadata": {},
   "outputs": [],
   "source": [
    "import numpy as np"
   ]
  },
  {
   "cell_type": "markdown",
   "id": "2aac433c",
   "metadata": {},
   "source": [
    "Creating numpy arrays from python lists"
   ]
  },
  {
   "cell_type": "code",
   "execution_count": 7,
   "id": "b29b1487",
   "metadata": {},
   "outputs": [
    {
     "data": {
      "text/plain": [
       "array([1, 2, 3, 4])"
      ]
     },
     "execution_count": 7,
     "metadata": {},
     "output_type": "execute_result"
    }
   ],
   "source": [
    "np.array([1,2,3,4])"
   ]
  },
  {
   "cell_type": "code",
   "execution_count": 11,
   "id": "a26e5220",
   "metadata": {},
   "outputs": [
    {
     "data": {
      "text/plain": [
       "array([1., 2., 3., 4.], dtype=float32)"
      ]
     },
     "execution_count": 11,
     "metadata": {},
     "output_type": "execute_result"
    }
   ],
   "source": [
    "np.array([1,2,3,4], dtype=('float32'))"
   ]
  },
  {
   "cell_type": "code",
   "execution_count": 17,
   "id": "038f29f1",
   "metadata": {},
   "outputs": [],
   "source": [
    "a1=np.array([1,2,3])"
   ]
  },
  {
   "cell_type": "code",
   "execution_count": 19,
   "id": "6706e6d8",
   "metadata": {},
   "outputs": [
    {
     "data": {
      "text/plain": [
       "numpy.ndarray"
      ]
     },
     "execution_count": 19,
     "metadata": {},
     "output_type": "execute_result"
    }
   ],
   "source": [
    "type(a1)"
   ]
  },
  {
   "cell_type": "code",
   "execution_count": 21,
   "id": "b890777d",
   "metadata": {},
   "outputs": [],
   "source": [
    "a2 = np.array([[1,2,3],[4,5,6]])"
   ]
  },
  {
   "cell_type": "code",
   "execution_count": 22,
   "id": "de18f88d",
   "metadata": {},
   "outputs": [
    {
     "data": {
      "text/plain": [
       "numpy.ndarray"
      ]
     },
     "execution_count": 22,
     "metadata": {},
     "output_type": "execute_result"
    }
   ],
   "source": [
    "type(a2)"
   ]
  },
  {
   "cell_type": "code",
   "execution_count": 23,
   "id": "5a0823cd",
   "metadata": {},
   "outputs": [
    {
     "data": {
      "text/plain": [
       "(2, 3)"
      ]
     },
     "execution_count": 23,
     "metadata": {},
     "output_type": "execute_result"
    }
   ],
   "source": [
    "a2.shape"
   ]
  },
  {
   "cell_type": "code",
   "execution_count": 24,
   "id": "9ac90209",
   "metadata": {},
   "outputs": [
    {
     "data": {
      "text/plain": [
       "2"
      ]
     },
     "execution_count": 24,
     "metadata": {},
     "output_type": "execute_result"
    }
   ],
   "source": [
    "a2.ndim"
   ]
  },
  {
   "cell_type": "code",
   "execution_count": 25,
   "id": "22c0a2f7",
   "metadata": {},
   "outputs": [
    {
     "data": {
      "text/plain": [
       "dtype('int64')"
      ]
     },
     "execution_count": 25,
     "metadata": {},
     "output_type": "execute_result"
    }
   ],
   "source": [
    "a2.dtype"
   ]
  },
  {
   "cell_type": "code",
   "execution_count": 26,
   "id": "0e318bc0",
   "metadata": {},
   "outputs": [
    {
     "data": {
      "text/plain": [
       "6"
      ]
     },
     "execution_count": 26,
     "metadata": {},
     "output_type": "execute_result"
    }
   ],
   "source": [
    "a2.size"
   ]
  },
  {
   "cell_type": "markdown",
   "id": "1518d2c8",
   "metadata": {},
   "source": [
    "Creating numpy arrays from scratch\n",
    "zeros, ones, full, arange, linspace"
   ]
  },
  {
   "cell_type": "code",
   "execution_count": 32,
   "id": "ab205d5c",
   "metadata": {},
   "outputs": [
    {
     "data": {
      "text/plain": [
       "array([[0, 0, 0, 0],\n",
       "       [0, 0, 0, 0]])"
      ]
     },
     "execution_count": 32,
     "metadata": {},
     "output_type": "execute_result"
    }
   ],
   "source": [
    "np.zeros((2,4),dtype = int)"
   ]
  },
  {
   "cell_type": "code",
   "execution_count": 34,
   "id": "9ccc542c",
   "metadata": {},
   "outputs": [
    {
     "data": {
      "text/plain": [
       "array([[1., 1., 1., 1.],\n",
       "       [1., 1., 1., 1.]])"
      ]
     },
     "execution_count": 34,
     "metadata": {},
     "output_type": "execute_result"
    }
   ],
   "source": [
    "np.ones((2,4),dtype = float)"
   ]
  },
  {
   "cell_type": "code",
   "execution_count": 35,
   "id": "adb74fa0",
   "metadata": {},
   "outputs": [
    {
     "data": {
      "text/plain": [
       "array([ 0,  2,  4,  6,  8, 10, 12, 14, 16, 18])"
      ]
     },
     "execution_count": 35,
     "metadata": {},
     "output_type": "execute_result"
    }
   ],
   "source": [
    "np.arange(0,20,2)"
   ]
  },
  {
   "cell_type": "code",
   "execution_count": 37,
   "id": "f06e9a87",
   "metadata": {},
   "outputs": [
    {
     "data": {
      "text/plain": [
       "array([[6.8, 6.8, 6.8, 6.8, 6.8],\n",
       "       [6.8, 6.8, 6.8, 6.8, 6.8],\n",
       "       [6.8, 6.8, 6.8, 6.8, 6.8]])"
      ]
     },
     "execution_count": 37,
     "metadata": {},
     "output_type": "execute_result"
    }
   ],
   "source": [
    "np.full((3,5),6.8)"
   ]
  },
  {
   "cell_type": "code",
   "execution_count": 41,
   "id": "38e1a949",
   "metadata": {},
   "outputs": [
    {
     "data": {
      "text/plain": [
       "array([ 2.        ,  4.66666667,  7.33333333, 10.        ])"
      ]
     },
     "execution_count": 41,
     "metadata": {},
     "output_type": "execute_result"
    }
   ],
   "source": [
    "np.linspace(2,10,4)"
   ]
  },
  {
   "cell_type": "markdown",
   "id": "113e22e9",
   "metadata": {},
   "source": [
    "random"
   ]
  },
  {
   "cell_type": "code",
   "execution_count": 46,
   "id": "34773c2d",
   "metadata": {},
   "outputs": [
    {
     "data": {
      "text/plain": [
       "array([[0.5488135 , 0.71518937, 0.60276338, 0.54488318],\n",
       "       [0.4236548 , 0.64589411, 0.43758721, 0.891773  ],\n",
       "       [0.96366276, 0.38344152, 0.79172504, 0.52889492],\n",
       "       [0.56804456, 0.92559664, 0.07103606, 0.0871293 ]])"
      ]
     },
     "execution_count": 46,
     "metadata": {},
     "output_type": "execute_result"
    }
   ],
   "source": [
    "np.random.seed(0)\n",
    "np.random.random((4,4))"
   ]
  },
  {
   "cell_type": "code",
   "execution_count": 45,
   "id": "0e694e64",
   "metadata": {},
   "outputs": [
    {
     "data": {
      "text/plain": [
       "array([[0.86372347, 0.90820438, 0.30572795, 0.21989379],\n",
       "       [0.72417876, 0.7811525 , 0.71935591, 0.23395582],\n",
       "       [0.04987885, 0.64715842, 0.5218934 , 0.50820433],\n",
       "       [0.60978969, 0.58428697, 0.95784437, 0.25892887]])"
      ]
     },
     "execution_count": 45,
     "metadata": {},
     "output_type": "execute_result"
    }
   ],
   "source": [
    "np.random.random((4,4))"
   ]
  },
  {
   "cell_type": "code",
   "execution_count": 48,
   "id": "4db90bf6",
   "metadata": {},
   "outputs": [
    {
     "data": {
      "text/plain": [
       "array([[ 1.49407907, -0.20515826,  0.3130677 ],\n",
       "       [-0.85409574, -2.55298982,  0.6536186 ],\n",
       "       [ 0.8644362 , -0.74216502,  2.26975462]])"
      ]
     },
     "execution_count": 48,
     "metadata": {},
     "output_type": "execute_result"
    }
   ],
   "source": [
    "np.random.normal(0,1,(3,3))"
   ]
  },
  {
   "cell_type": "code",
   "execution_count": 49,
   "id": "9a77a585",
   "metadata": {},
   "outputs": [
    {
     "data": {
      "text/plain": [
       "array([[3, 7, 8],\n",
       "       [8, 9, 3],\n",
       "       [7, 4, 7]])"
      ]
     },
     "execution_count": 49,
     "metadata": {},
     "output_type": "execute_result"
    }
   ],
   "source": [
    "np.random.randint(3,10,(3,3))"
   ]
  },
  {
   "cell_type": "code",
   "execution_count": 51,
   "id": "e6a6e274",
   "metadata": {},
   "outputs": [
    {
     "data": {
      "text/plain": [
       "array([[0.31823351, 0.85877747, 0.45850317, 0.44458729],\n",
       "       [0.33610227, 0.88067812, 0.94502678, 0.99189033],\n",
       "       [0.37674127, 0.96614745, 0.79187957, 0.67568915],\n",
       "       [0.24488948, 0.21645726, 0.16604782, 0.92275661]])"
      ]
     },
     "execution_count": 51,
     "metadata": {},
     "output_type": "execute_result"
    }
   ],
   "source": [
    "np.random.rand(4,4)"
   ]
  },
  {
   "cell_type": "markdown",
   "id": "ffb8f1da",
   "metadata": {},
   "source": [
    "Indexing và Slicing"
   ]
  },
  {
   "cell_type": "code",
   "execution_count": 52,
   "id": "c6e54303",
   "metadata": {},
   "outputs": [],
   "source": [
    "x1 = np.random.randint(20,size = 6)"
   ]
  },
  {
   "cell_type": "code",
   "execution_count": 53,
   "id": "44aa9e33",
   "metadata": {},
   "outputs": [
    {
     "data": {
      "text/plain": [
       "array([15, 17,  6,  0,  6, 12])"
      ]
     },
     "execution_count": 53,
     "metadata": {},
     "output_type": "execute_result"
    }
   ],
   "source": [
    "x1"
   ]
  },
  {
   "cell_type": "code",
   "execution_count": 55,
   "id": "9cb1aa89",
   "metadata": {},
   "outputs": [
    {
     "data": {
      "text/plain": [
       "(6, 15, 12)"
      ]
     },
     "execution_count": 55,
     "metadata": {},
     "output_type": "execute_result"
    }
   ],
   "source": [
    "x1[4], x1[0], x1[-1]"
   ]
  },
  {
   "cell_type": "code",
   "execution_count": 57,
   "id": "447723f4",
   "metadata": {},
   "outputs": [],
   "source": [
    "x2 = np.random.randint(30, size = (3,4))"
   ]
  },
  {
   "cell_type": "code",
   "execution_count": 58,
   "id": "435452a9",
   "metadata": {},
   "outputs": [
    {
     "data": {
      "text/plain": [
       "array([[22, 15, 10,  2],\n",
       "       [ 8,  6, 22, 21],\n",
       "       [ 2, 21,  0, 10]])"
      ]
     },
     "execution_count": 58,
     "metadata": {},
     "output_type": "execute_result"
    }
   ],
   "source": [
    "x2"
   ]
  },
  {
   "cell_type": "code",
   "execution_count": 61,
   "id": "30c24987",
   "metadata": {},
   "outputs": [],
   "source": [
    "x2[1,2]=6"
   ]
  },
  {
   "cell_type": "code",
   "execution_count": 62,
   "id": "822ae83b",
   "metadata": {},
   "outputs": [
    {
     "data": {
      "text/plain": [
       "array([[22, 15, 10,  2],\n",
       "       [ 8,  6,  6, 21],\n",
       "       [ 2, 21,  0, 10]])"
      ]
     },
     "execution_count": 62,
     "metadata": {},
     "output_type": "execute_result"
    }
   ],
   "source": [
    "x2"
   ]
  },
  {
   "cell_type": "code",
   "execution_count": 63,
   "id": "557b7c81",
   "metadata": {},
   "outputs": [
    {
     "data": {
      "text/plain": [
       "array([15, 17,  6])"
      ]
     },
     "execution_count": 63,
     "metadata": {},
     "output_type": "execute_result"
    }
   ],
   "source": [
    "x1[0:3]"
   ]
  },
  {
   "cell_type": "code",
   "execution_count": 64,
   "id": "5b1c405b",
   "metadata": {},
   "outputs": [
    {
     "data": {
      "text/plain": [
       "array([15,  6,  6])"
      ]
     },
     "execution_count": 64,
     "metadata": {},
     "output_type": "execute_result"
    }
   ],
   "source": [
    "x1 [::2]"
   ]
  },
  {
   "cell_type": "code",
   "execution_count": 65,
   "id": "4c6c80bc",
   "metadata": {},
   "outputs": [
    {
     "data": {
      "text/plain": [
       "array([[22, 15, 10],\n",
       "       [ 8,  6,  6]])"
      ]
     },
     "execution_count": 65,
     "metadata": {},
     "output_type": "execute_result"
    }
   ],
   "source": [
    "x2[:2,:3]"
   ]
  },
  {
   "cell_type": "code",
   "execution_count": 66,
   "id": "9ecd879a",
   "metadata": {},
   "outputs": [
    {
     "data": {
      "text/plain": [
       "array([[22, 15],\n",
       "       [ 8,  6],\n",
       "       [ 2, 21]])"
      ]
     },
     "execution_count": 66,
     "metadata": {},
     "output_type": "execute_result"
    }
   ],
   "source": [
    "x2[:,:2]"
   ]
  },
  {
   "cell_type": "markdown",
   "id": "1c895ccd",
   "metadata": {},
   "source": [
    "Reshape và Transpose"
   ]
  },
  {
   "cell_type": "code",
   "execution_count": 72,
   "id": "175b4774",
   "metadata": {},
   "outputs": [
    {
     "data": {
      "text/plain": [
       "(9,)"
      ]
     },
     "execution_count": 72,
     "metadata": {},
     "output_type": "execute_result"
    }
   ],
   "source": [
    "grid = np.arange(1,10)\n",
    "grid.shape"
   ]
  },
  {
   "cell_type": "code",
   "execution_count": 73,
   "id": "4669f6fc",
   "metadata": {},
   "outputs": [
    {
     "data": {
      "text/plain": [
       "array([[1, 2, 3],\n",
       "       [4, 5, 6],\n",
       "       [7, 8, 9]])"
      ]
     },
     "execution_count": 73,
     "metadata": {},
     "output_type": "execute_result"
    }
   ],
   "source": [
    "grid.reshape(3,3)"
   ]
  },
  {
   "cell_type": "code",
   "execution_count": 75,
   "id": "1efbe51d",
   "metadata": {},
   "outputs": [],
   "source": [
    "x=np.array([1,2,3])"
   ]
  },
  {
   "cell_type": "code",
   "execution_count": 78,
   "id": "0501167c",
   "metadata": {},
   "outputs": [
    {
     "data": {
      "text/plain": [
       "(1, 3)"
      ]
     },
     "execution_count": 78,
     "metadata": {},
     "output_type": "execute_result"
    }
   ],
   "source": [
    "x.reshape(1,3).shape"
   ]
  },
  {
   "cell_type": "code",
   "execution_count": 79,
   "id": "539cfc98",
   "metadata": {},
   "outputs": [
    {
     "data": {
      "text/plain": [
       "array([1, 2, 3])"
      ]
     },
     "execution_count": 79,
     "metadata": {},
     "output_type": "execute_result"
    }
   ],
   "source": [
    "x"
   ]
  },
  {
   "cell_type": "code",
   "execution_count": 87,
   "id": "cbb335b8",
   "metadata": {},
   "outputs": [],
   "source": [
    "y = np.array([[1,2],[4,5]])"
   ]
  },
  {
   "cell_type": "code",
   "execution_count": 91,
   "id": "112ffb61",
   "metadata": {},
   "outputs": [
    {
     "data": {
      "text/plain": [
       "array([[1, 4],\n",
       "       [2, 5]])"
      ]
     },
     "execution_count": 91,
     "metadata": {},
     "output_type": "execute_result"
    }
   ],
   "source": [
    "y.T"
   ]
  },
  {
   "cell_type": "markdown",
   "id": "5e0aeb9e",
   "metadata": {},
   "source": [
    "Concatenation và Splitting"
   ]
  },
  {
   "cell_type": "code",
   "execution_count": 94,
   "id": "00c985bf",
   "metadata": {},
   "outputs": [],
   "source": [
    "x=np.array([[1,2,3]])\n",
    "y=np.array([[4,5,6]])"
   ]
  },
  {
   "cell_type": "code",
   "execution_count": 97,
   "id": "cbb0cc44",
   "metadata": {},
   "outputs": [
    {
     "data": {
      "text/plain": [
       "array([[1, 2, 3],\n",
       "       [4, 5, 6]])"
      ]
     },
     "execution_count": 97,
     "metadata": {},
     "output_type": "execute_result"
    }
   ],
   "source": [
    "np.concatenate((x,y),0)"
   ]
  },
  {
   "cell_type": "code",
   "execution_count": 100,
   "id": "121bee19",
   "metadata": {},
   "outputs": [
    {
     "data": {
      "text/plain": [
       "array([[1, 2, 3],\n",
       "       [4, 5, 6]])"
      ]
     },
     "execution_count": 100,
     "metadata": {},
     "output_type": "execute_result"
    }
   ],
   "source": [
    "grid = np.array([[1,2,3]\n",
    "                ,[4,5,6]])\n",
    "grid"
   ]
  },
  {
   "cell_type": "code",
   "execution_count": 102,
   "id": "eb0b33b5",
   "metadata": {},
   "outputs": [
    {
     "data": {
      "text/plain": [
       "array([[1, 2, 3, 1, 2, 3],\n",
       "       [4, 5, 6, 4, 5, 6]])"
      ]
     },
     "execution_count": 102,
     "metadata": {},
     "output_type": "execute_result"
    }
   ],
   "source": [
    "np.concatenate((grid,grid),1)"
   ]
  },
  {
   "cell_type": "code",
   "execution_count": 107,
   "id": "e902291c",
   "metadata": {},
   "outputs": [
    {
     "data": {
      "text/plain": [
       "array([[1, 2, 7],\n",
       "       [6, 2, 3],\n",
       "       [4, 5, 8]])"
      ]
     },
     "execution_count": 107,
     "metadata": {},
     "output_type": "execute_result"
    }
   ],
   "source": [
    "#vstack\n",
    "x = np.array([1,2,7])\n",
    "y = np.array([[6,2,3]\n",
    "            ,[4,5,8]])\n",
    "np.vstack((x,y))"
   ]
  },
  {
   "cell_type": "code",
   "execution_count": 110,
   "id": "b9a465d7",
   "metadata": {},
   "outputs": [
    {
     "data": {
      "text/plain": [
       "array([1, 2, 7, 6, 2, 3])"
      ]
     },
     "execution_count": 110,
     "metadata": {},
     "output_type": "execute_result"
    }
   ],
   "source": [
    "#hstack\n",
    "x = np.array([1,2,7])\n",
    "y = np.array([6,2,3])\n",
    "np.hstack((x,y))"
   ]
  },
  {
   "cell_type": "code",
   "execution_count": 112,
   "id": "fa166765",
   "metadata": {},
   "outputs": [],
   "source": [
    "x= np.array([1,2,4,55,43,31,23,23,32])"
   ]
  },
  {
   "cell_type": "code",
   "execution_count": 115,
   "id": "29d384ca",
   "metadata": {},
   "outputs": [],
   "source": [
    "x1, x2, x3 = np.split(x,[2,6])"
   ]
  },
  {
   "cell_type": "code",
   "execution_count": 117,
   "id": "bf5787d5",
   "metadata": {},
   "outputs": [
    {
     "data": {
      "text/plain": [
       "(array([1, 2]), array([ 4, 55, 43, 31]), array([23, 23, 32]))"
      ]
     },
     "execution_count": 117,
     "metadata": {},
     "output_type": "execute_result"
    }
   ],
   "source": [
    "x1, x2, x3"
   ]
  },
  {
   "cell_type": "markdown",
   "id": "3cee66b2",
   "metadata": {},
   "source": [
    "Broadcasting và Vectorised Operations"
   ]
  },
  {
   "cell_type": "code",
   "execution_count": 119,
   "id": "27dc5c57",
   "metadata": {},
   "outputs": [],
   "source": [
    "a= np.arange(3)"
   ]
  },
  {
   "cell_type": "code",
   "execution_count": 123,
   "id": "eccef4e1",
   "metadata": {},
   "outputs": [
    {
     "data": {
      "text/plain": [
       "array([5, 6, 7])"
      ]
     },
     "execution_count": 123,
     "metadata": {},
     "output_type": "execute_result"
    }
   ],
   "source": [
    "#broadcasting\n",
    "a +5"
   ]
  },
  {
   "cell_type": "code",
   "execution_count": 125,
   "id": "e955d267",
   "metadata": {},
   "outputs": [],
   "source": [
    "b= np.ones((3,3))"
   ]
  },
  {
   "cell_type": "code",
   "execution_count": 128,
   "id": "00bd76a0",
   "metadata": {},
   "outputs": [
    {
     "data": {
      "text/plain": [
       "((3,), (3, 3))"
      ]
     },
     "execution_count": 128,
     "metadata": {},
     "output_type": "execute_result"
    }
   ],
   "source": [
    "a.shape, b.shape"
   ]
  },
  {
   "cell_type": "code",
   "execution_count": 129,
   "id": "33322220",
   "metadata": {},
   "outputs": [
    {
     "data": {
      "text/plain": [
       "array([[1., 2., 3.],\n",
       "       [1., 2., 3.],\n",
       "       [1., 2., 3.]])"
      ]
     },
     "execution_count": 129,
     "metadata": {},
     "output_type": "execute_result"
    }
   ],
   "source": [
    "a+b"
   ]
  },
  {
   "cell_type": "code",
   "execution_count": 130,
   "id": "e9079c5e",
   "metadata": {},
   "outputs": [
    {
     "data": {
      "text/plain": [
       "array([[0., 1., 2.],\n",
       "       [0., 1., 2.],\n",
       "       [0., 1., 2.]])"
      ]
     },
     "execution_count": 130,
     "metadata": {},
     "output_type": "execute_result"
    }
   ],
   "source": [
    "a*b"
   ]
  },
  {
   "cell_type": "markdown",
   "id": "6f585eca",
   "metadata": {},
   "source": [
    "manipulate & compare Numpy Array"
   ]
  },
  {
   "cell_type": "markdown",
   "id": "a8f07bea",
   "metadata": {},
   "source": [
    "#aggregation"
   ]
  },
  {
   "cell_type": "code",
   "execution_count": 132,
   "id": "c7980f55",
   "metadata": {},
   "outputs": [],
   "source": [
    "list_number = [1,2,3,4]"
   ]
  },
  {
   "cell_type": "code",
   "execution_count": 133,
   "id": "48b3a1fc",
   "metadata": {},
   "outputs": [],
   "source": [
    "ll = np.array(list_number)"
   ]
  },
  {
   "cell_type": "code",
   "execution_count": 134,
   "id": "da5196fc",
   "metadata": {},
   "outputs": [
    {
     "data": {
      "text/plain": [
       "array([1, 2, 3, 4])"
      ]
     },
     "execution_count": 134,
     "metadata": {},
     "output_type": "execute_result"
    }
   ],
   "source": [
    "ll"
   ]
  },
  {
   "cell_type": "code",
   "execution_count": 135,
   "id": "9155f158",
   "metadata": {},
   "outputs": [
    {
     "data": {
      "text/plain": [
       "10"
      ]
     },
     "execution_count": 135,
     "metadata": {},
     "output_type": "execute_result"
    }
   ],
   "source": [
    "sum(ll) #python"
   ]
  },
  {
   "cell_type": "code",
   "execution_count": 136,
   "id": "b3edef23",
   "metadata": {},
   "outputs": [
    {
     "data": {
      "text/plain": [
       "10"
      ]
     },
     "execution_count": 136,
     "metadata": {},
     "output_type": "execute_result"
    }
   ],
   "source": [
    "np.sum(ll) #nhanh hon"
   ]
  },
  {
   "cell_type": "code",
   "execution_count": 142,
   "id": "88d1b89a",
   "metadata": {},
   "outputs": [
    {
     "data": {
      "text/plain": [
       "(10000,)"
      ]
     },
     "execution_count": 142,
     "metadata": {},
     "output_type": "execute_result"
    }
   ],
   "source": [
    "#create massive numpy array \n",
    "massive_array = np.random.random(10000)\n",
    "massive_array[:5]\n",
    "massive_array.shape"
   ]
  },
  {
   "cell_type": "code",
   "execution_count": 144,
   "id": "a7d5312d",
   "metadata": {},
   "outputs": [
    {
     "name": "stdout",
     "output_type": "stream",
     "text": [
      "705 µs ± 14.4 µs per loop (mean ± std. dev. of 7 runs, 1,000 loops each)\n",
      "7.25 µs ± 90.5 ns per loop (mean ± std. dev. of 7 runs, 100,000 loops each)\n"
     ]
    }
   ],
   "source": [
    "%timeit sum(massive_array) #python built in funtion\n",
    "%timeit np.sum(massive_array) #numpy "
   ]
  },
  {
   "cell_type": "code",
   "execution_count": 145,
   "id": "de59e816",
   "metadata": {},
   "outputs": [
    {
     "data": {
      "text/plain": [
       "0.49707455616169527"
      ]
     },
     "execution_count": 145,
     "metadata": {},
     "output_type": "execute_result"
    }
   ],
   "source": [
    "np.mean(massive_array)"
   ]
  },
  {
   "cell_type": "code",
   "execution_count": 146,
   "id": "c877b857",
   "metadata": {},
   "outputs": [
    {
     "data": {
      "text/plain": [
       "0.9998042215863371"
      ]
     },
     "execution_count": 146,
     "metadata": {},
     "output_type": "execute_result"
    }
   ],
   "source": [
    "np.max(massive_array)"
   ]
  },
  {
   "cell_type": "code",
   "execution_count": 148,
   "id": "9e52cb79",
   "metadata": {},
   "outputs": [],
   "source": [
    "dog_height = [600,470,170,430,300]\n",
    "dog_height = np.array(dog_height)"
   ]
  },
  {
   "cell_type": "code",
   "execution_count": 149,
   "id": "da50d65b",
   "metadata": {},
   "outputs": [
    {
     "data": {
      "text/plain": [
       "147.32277488562318"
      ]
     },
     "execution_count": 149,
     "metadata": {},
     "output_type": "execute_result"
    }
   ],
   "source": [
    "np.std(dog_height) #do lech chuan"
   ]
  },
  {
   "cell_type": "code",
   "execution_count": 150,
   "id": "cf06336d",
   "metadata": {},
   "outputs": [
    {
     "data": {
      "text/plain": [
       "21704.0"
      ]
     },
     "execution_count": 150,
     "metadata": {},
     "output_type": "execute_result"
    }
   ],
   "source": [
    "np.var(dog_height) #phuong sai"
   ]
  },
  {
   "cell_type": "code",
   "execution_count": 151,
   "id": "629f3136",
   "metadata": {},
   "outputs": [
    {
     "data": {
      "text/plain": [
       "147.32277488562318"
      ]
     },
     "execution_count": 151,
     "metadata": {},
     "output_type": "execute_result"
    }
   ],
   "source": [
    "np.sqrt(np.var(dog_height))"
   ]
  },
  {
   "cell_type": "markdown",
   "id": "03294e22",
   "metadata": {},
   "source": [
    "Sorting arrays"
   ]
  },
  {
   "cell_type": "code",
   "execution_count": 152,
   "id": "e6a8ec84",
   "metadata": {},
   "outputs": [
    {
     "data": {
      "text/plain": [
       "array([ 1,  2,  6, 23, 32, 34, 55, 66])"
      ]
     },
     "execution_count": 152,
     "metadata": {},
     "output_type": "execute_result"
    }
   ],
   "source": [
    "x = np.array([1,2,6,34,32,23,66,55])\n",
    "np.sort(x)"
   ]
  },
  {
   "cell_type": "code",
   "execution_count": 154,
   "id": "d8a7d73f",
   "metadata": {},
   "outputs": [
    {
     "data": {
      "text/plain": [
       "array([0, 1, 2, 5, 4, 3, 7, 6])"
      ]
     },
     "execution_count": 154,
     "metadata": {},
     "output_type": "execute_result"
    }
   ],
   "source": [
    "np.argsort(x)"
   ]
  },
  {
   "cell_type": "markdown",
   "id": "abade870",
   "metadata": {},
   "source": [
    "#sorting rows and columns"
   ]
  },
  {
   "cell_type": "code",
   "execution_count": 159,
   "id": "1ec6aa59",
   "metadata": {},
   "outputs": [
    {
     "data": {
      "text/plain": [
       "array([[6, 3, 7, 4, 6, 9],\n",
       "       [2, 6, 7, 4, 3, 7],\n",
       "       [7, 2, 5, 4, 1, 7],\n",
       "       [5, 1, 4, 0, 9, 5]])"
      ]
     },
     "execution_count": 159,
     "metadata": {},
     "output_type": "execute_result"
    }
   ],
   "source": [
    "np.random.seed(42)\n",
    "mata = np.random.randint(0,10,size = (4,6))\n",
    "mata"
   ]
  },
  {
   "cell_type": "code",
   "execution_count": 162,
   "id": "cbf988c7",
   "metadata": {},
   "outputs": [
    {
     "data": {
      "text/plain": [
       "array([[3, 4, 6, 6, 7, 9],\n",
       "       [2, 3, 4, 6, 7, 7],\n",
       "       [1, 2, 4, 5, 7, 7],\n",
       "       [0, 1, 4, 5, 5, 9]])"
      ]
     },
     "execution_count": 162,
     "metadata": {},
     "output_type": "execute_result"
    }
   ],
   "source": [
    "np.sort(mata,1)"
   ]
  },
  {
   "cell_type": "markdown",
   "id": "afe9581a",
   "metadata": {},
   "source": [
    "linear algebra"
   ]
  },
  {
   "cell_type": "code",
   "execution_count": 164,
   "id": "cf9c93a7",
   "metadata": {},
   "outputs": [],
   "source": [
    "a= np.array([[1,2,3],[44,55,44],[12,43,21]])"
   ]
  },
  {
   "cell_type": "code",
   "execution_count": 173,
   "id": "78a83ee8",
   "metadata": {},
   "outputs": [
    {
     "data": {
      "text/plain": [
       "array([[1, 3],\n",
       "       [3, 3],\n",
       "       [4, 5]])"
      ]
     },
     "execution_count": 173,
     "metadata": {},
     "output_type": "execute_result"
    }
   ],
   "source": [
    "b=np.array([[1,3],[3,3],[4,5]])\n",
    "b"
   ]
  },
  {
   "cell_type": "code",
   "execution_count": 179,
   "id": "570e9974",
   "metadata": {},
   "outputs": [
    {
     "data": {
      "text/plain": [
       "array([[ 19,  24],\n",
       "       [385, 517],\n",
       "       [225, 270]])"
      ]
     },
     "execution_count": 179,
     "metadata": {},
     "output_type": "execute_result"
    }
   ],
   "source": [
    "a.dot(b)"
   ]
  },
  {
   "cell_type": "code",
   "execution_count": 180,
   "id": "ac184851",
   "metadata": {},
   "outputs": [
    {
     "data": {
      "text/plain": [
       "array([[ 19,  24],\n",
       "       [385, 517],\n",
       "       [225, 270]])"
      ]
     },
     "execution_count": 180,
     "metadata": {},
     "output_type": "execute_result"
    }
   ],
   "source": [
    "a @ b"
   ]
  },
  {
   "cell_type": "code",
   "execution_count": 181,
   "id": "cdebeaa9",
   "metadata": {},
   "outputs": [
    {
     "data": {
      "text/plain": [
       "array([[181, 339, 219],\n",
       "       [195, 386, 246]])"
      ]
     },
     "execution_count": 181,
     "metadata": {},
     "output_type": "execute_result"
    }
   ],
   "source": [
    "b.T @ a"
   ]
  },
  {
   "cell_type": "markdown",
   "id": "b552bafa",
   "metadata": {},
   "source": [
    "dot product "
   ]
  },
  {
   "cell_type": "code",
   "execution_count": 182,
   "id": "6947d204",
   "metadata": {},
   "outputs": [],
   "source": [
    "np.random.seed(0)\n",
    "sales_amount = np.random.randint(20, size = (5,3))"
   ]
  },
  {
   "cell_type": "code",
   "execution_count": 183,
   "id": "b9788303",
   "metadata": {},
   "outputs": [],
   "source": [
    "import pandas as pd"
   ]
  },
  {
   "cell_type": "code",
   "execution_count": 184,
   "id": "b241eefd",
   "metadata": {},
   "outputs": [],
   "source": [
    "weekly_sales = pd.DataFrame(sales_amount,\n",
    "                            index=['mon','tue','wed','thu','fri'], columns = ['pizza','ice_cream','noodle'])"
   ]
  },
  {
   "cell_type": "code",
   "execution_count": 185,
   "id": "08b32972",
   "metadata": {},
   "outputs": [
    {
     "data": {
      "text/html": [
       "<div>\n",
       "<style scoped>\n",
       "    .dataframe tbody tr th:only-of-type {\n",
       "        vertical-align: middle;\n",
       "    }\n",
       "\n",
       "    .dataframe tbody tr th {\n",
       "        vertical-align: top;\n",
       "    }\n",
       "\n",
       "    .dataframe thead th {\n",
       "        text-align: right;\n",
       "    }\n",
       "</style>\n",
       "<table border=\"1\" class=\"dataframe\">\n",
       "  <thead>\n",
       "    <tr style=\"text-align: right;\">\n",
       "      <th></th>\n",
       "      <th>pizza</th>\n",
       "      <th>ice_cream</th>\n",
       "      <th>noodle</th>\n",
       "    </tr>\n",
       "  </thead>\n",
       "  <tbody>\n",
       "    <tr>\n",
       "      <th>mon</th>\n",
       "      <td>12</td>\n",
       "      <td>15</td>\n",
       "      <td>0</td>\n",
       "    </tr>\n",
       "    <tr>\n",
       "      <th>tue</th>\n",
       "      <td>3</td>\n",
       "      <td>3</td>\n",
       "      <td>7</td>\n",
       "    </tr>\n",
       "    <tr>\n",
       "      <th>wed</th>\n",
       "      <td>9</td>\n",
       "      <td>19</td>\n",
       "      <td>18</td>\n",
       "    </tr>\n",
       "    <tr>\n",
       "      <th>thu</th>\n",
       "      <td>4</td>\n",
       "      <td>6</td>\n",
       "      <td>12</td>\n",
       "    </tr>\n",
       "    <tr>\n",
       "      <th>fri</th>\n",
       "      <td>1</td>\n",
       "      <td>6</td>\n",
       "      <td>7</td>\n",
       "    </tr>\n",
       "  </tbody>\n",
       "</table>\n",
       "</div>"
      ],
      "text/plain": [
       "     pizza  ice_cream  noodle\n",
       "mon     12         15       0\n",
       "tue      3          3       7\n",
       "wed      9         19      18\n",
       "thu      4          6      12\n",
       "fri      1          6       7"
      ]
     },
     "execution_count": 185,
     "metadata": {},
     "output_type": "execute_result"
    }
   ],
   "source": [
    "weekly_sales"
   ]
  },
  {
   "cell_type": "code",
   "execution_count": 190,
   "id": "95f7babc",
   "metadata": {},
   "outputs": [],
   "source": [
    "price = np.array([[6,2,5]])"
   ]
  },
  {
   "cell_type": "code",
   "execution_count": 191,
   "id": "2c385d69",
   "metadata": {},
   "outputs": [
    {
     "data": {
      "text/plain": [
       "array([[6, 2, 5]])"
      ]
     },
     "execution_count": 191,
     "metadata": {},
     "output_type": "execute_result"
    }
   ],
   "source": [
    "price"
   ]
  },
  {
   "cell_type": "code",
   "execution_count": 193,
   "id": "cb4e77b2",
   "metadata": {},
   "outputs": [
    {
     "data": {
      "text/html": [
       "<div>\n",
       "<style scoped>\n",
       "    .dataframe tbody tr th:only-of-type {\n",
       "        vertical-align: middle;\n",
       "    }\n",
       "\n",
       "    .dataframe tbody tr th {\n",
       "        vertical-align: top;\n",
       "    }\n",
       "\n",
       "    .dataframe thead th {\n",
       "        text-align: right;\n",
       "    }\n",
       "</style>\n",
       "<table border=\"1\" class=\"dataframe\">\n",
       "  <thead>\n",
       "    <tr style=\"text-align: right;\">\n",
       "      <th></th>\n",
       "      <th>pizza</th>\n",
       "      <th>ice_cream</th>\n",
       "      <th>noodle</th>\n",
       "    </tr>\n",
       "  </thead>\n",
       "  <tbody>\n",
       "    <tr>\n",
       "      <th>price</th>\n",
       "      <td>6</td>\n",
       "      <td>2</td>\n",
       "      <td>5</td>\n",
       "    </tr>\n",
       "  </tbody>\n",
       "</table>\n",
       "</div>"
      ],
      "text/plain": [
       "       pizza  ice_cream  noodle\n",
       "price      6          2       5"
      ]
     },
     "execution_count": 193,
     "metadata": {},
     "output_type": "execute_result"
    }
   ],
   "source": [
    "price_food = pd.DataFrame(price.reshape(1,3),index=['price'],columns = ['pizza','ice_cream','noodle'])\n",
    "price_food"
   ]
  },
  {
   "cell_type": "code",
   "execution_count": 195,
   "id": "6fb6a746",
   "metadata": {},
   "outputs": [
    {
     "data": {
      "text/plain": [
       "((5, 3), (1, 3))"
      ]
     },
     "execution_count": 195,
     "metadata": {},
     "output_type": "execute_result"
    }
   ],
   "source": [
    "weekly_sales.shape, price_food.shape"
   ]
  },
  {
   "cell_type": "code",
   "execution_count": 198,
   "id": "1e56f0f4",
   "metadata": {},
   "outputs": [
    {
     "data": {
      "text/html": [
       "<div>\n",
       "<style scoped>\n",
       "    .dataframe tbody tr th:only-of-type {\n",
       "        vertical-align: middle;\n",
       "    }\n",
       "\n",
       "    .dataframe tbody tr th {\n",
       "        vertical-align: top;\n",
       "    }\n",
       "\n",
       "    .dataframe thead th {\n",
       "        text-align: right;\n",
       "    }\n",
       "</style>\n",
       "<table border=\"1\" class=\"dataframe\">\n",
       "  <thead>\n",
       "    <tr style=\"text-align: right;\">\n",
       "      <th></th>\n",
       "      <th>price</th>\n",
       "    </tr>\n",
       "  </thead>\n",
       "  <tbody>\n",
       "    <tr>\n",
       "      <th>mon</th>\n",
       "      <td>102</td>\n",
       "    </tr>\n",
       "    <tr>\n",
       "      <th>tue</th>\n",
       "      <td>59</td>\n",
       "    </tr>\n",
       "    <tr>\n",
       "      <th>wed</th>\n",
       "      <td>182</td>\n",
       "    </tr>\n",
       "    <tr>\n",
       "      <th>thu</th>\n",
       "      <td>96</td>\n",
       "    </tr>\n",
       "    <tr>\n",
       "      <th>fri</th>\n",
       "      <td>53</td>\n",
       "    </tr>\n",
       "  </tbody>\n",
       "</table>\n",
       "</div>"
      ],
      "text/plain": [
       "     price\n",
       "mon    102\n",
       "tue     59\n",
       "wed    182\n",
       "thu     96\n",
       "fri     53"
      ]
     },
     "execution_count": 198,
     "metadata": {},
     "output_type": "execute_result"
    }
   ],
   "source": [
    "total = weekly_sales @ price_food.T\n",
    "total"
   ]
  },
  {
   "cell_type": "code",
   "execution_count": 199,
   "id": "ed6e42c8",
   "metadata": {},
   "outputs": [
    {
     "data": {
      "text/html": [
       "<div>\n",
       "<style scoped>\n",
       "    .dataframe tbody tr th:only-of-type {\n",
       "        vertical-align: middle;\n",
       "    }\n",
       "\n",
       "    .dataframe tbody tr th {\n",
       "        vertical-align: top;\n",
       "    }\n",
       "\n",
       "    .dataframe thead th {\n",
       "        text-align: right;\n",
       "    }\n",
       "</style>\n",
       "<table border=\"1\" class=\"dataframe\">\n",
       "  <thead>\n",
       "    <tr style=\"text-align: right;\">\n",
       "      <th></th>\n",
       "      <th>pizza</th>\n",
       "      <th>ice_cream</th>\n",
       "      <th>noodle</th>\n",
       "      <th>total</th>\n",
       "    </tr>\n",
       "  </thead>\n",
       "  <tbody>\n",
       "    <tr>\n",
       "      <th>mon</th>\n",
       "      <td>12</td>\n",
       "      <td>15</td>\n",
       "      <td>0</td>\n",
       "      <td>102</td>\n",
       "    </tr>\n",
       "    <tr>\n",
       "      <th>tue</th>\n",
       "      <td>3</td>\n",
       "      <td>3</td>\n",
       "      <td>7</td>\n",
       "      <td>59</td>\n",
       "    </tr>\n",
       "    <tr>\n",
       "      <th>wed</th>\n",
       "      <td>9</td>\n",
       "      <td>19</td>\n",
       "      <td>18</td>\n",
       "      <td>182</td>\n",
       "    </tr>\n",
       "    <tr>\n",
       "      <th>thu</th>\n",
       "      <td>4</td>\n",
       "      <td>6</td>\n",
       "      <td>12</td>\n",
       "      <td>96</td>\n",
       "    </tr>\n",
       "    <tr>\n",
       "      <th>fri</th>\n",
       "      <td>1</td>\n",
       "      <td>6</td>\n",
       "      <td>7</td>\n",
       "      <td>53</td>\n",
       "    </tr>\n",
       "  </tbody>\n",
       "</table>\n",
       "</div>"
      ],
      "text/plain": [
       "     pizza  ice_cream  noodle  total\n",
       "mon     12         15       0    102\n",
       "tue      3          3       7     59\n",
       "wed      9         19      18    182\n",
       "thu      4          6      12     96\n",
       "fri      1          6       7     53"
      ]
     },
     "execution_count": 199,
     "metadata": {},
     "output_type": "execute_result"
    }
   ],
   "source": [
    "weekly_sales[\"total\"]= total\n",
    "weekly_sales"
   ]
  }
 ],
 "metadata": {
  "kernelspec": {
   "display_name": "Python 3 (ipykernel)",
   "language": "python",
   "name": "python3"
  },
  "language_info": {
   "codemirror_mode": {
    "name": "ipython",
    "version": 3
   },
   "file_extension": ".py",
   "mimetype": "text/x-python",
   "name": "python",
   "nbconvert_exporter": "python",
   "pygments_lexer": "ipython3",
   "version": "3.11.3"
  }
 },
 "nbformat": 4,
 "nbformat_minor": 5
}
